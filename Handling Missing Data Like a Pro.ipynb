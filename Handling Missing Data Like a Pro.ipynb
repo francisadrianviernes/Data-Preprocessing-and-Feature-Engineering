{
 "cells": [
  {
   "cell_type": "markdown",
   "metadata": {},
   "source": [
    "# PRELIMINARIES"
   ]
  },
  {
   "cell_type": "code",
   "execution_count": 1,
   "metadata": {},
   "outputs": [
    {
     "name": "stderr",
     "output_type": "stream",
     "text": [
      "In C:\\Users\\f.viernes\\Anaconda3\\lib\\site-packages\\matplotlib\\mpl-data\\stylelib\\_classic_test.mplstyle: \n",
      "The text.latex.preview rcparam was deprecated in Matplotlib 3.3 and will be removed two minor releases later.\n",
      "In C:\\Users\\f.viernes\\Anaconda3\\lib\\site-packages\\matplotlib\\mpl-data\\stylelib\\_classic_test.mplstyle: \n",
      "The mathtext.fallback_to_cm rcparam was deprecated in Matplotlib 3.3 and will be removed two minor releases later.\n",
      "In C:\\Users\\f.viernes\\Anaconda3\\lib\\site-packages\\matplotlib\\mpl-data\\stylelib\\_classic_test.mplstyle: Support for setting the 'mathtext.fallback_to_cm' rcParam is deprecated since 3.3 and will be removed two minor releases later; use 'mathtext.fallback : 'cm' instead.\n",
      "In C:\\Users\\f.viernes\\Anaconda3\\lib\\site-packages\\matplotlib\\mpl-data\\stylelib\\_classic_test.mplstyle: \n",
      "The validate_bool_maybe_none function was deprecated in Matplotlib 3.3 and will be removed two minor releases later.\n",
      "In C:\\Users\\f.viernes\\Anaconda3\\lib\\site-packages\\matplotlib\\mpl-data\\stylelib\\_classic_test.mplstyle: \n",
      "The savefig.jpeg_quality rcparam was deprecated in Matplotlib 3.3 and will be removed two minor releases later.\n",
      "In C:\\Users\\f.viernes\\Anaconda3\\lib\\site-packages\\matplotlib\\mpl-data\\stylelib\\_classic_test.mplstyle: \n",
      "The keymap.all_axes rcparam was deprecated in Matplotlib 3.3 and will be removed two minor releases later.\n",
      "In C:\\Users\\f.viernes\\Anaconda3\\lib\\site-packages\\matplotlib\\mpl-data\\stylelib\\_classic_test.mplstyle: \n",
      "The animation.avconv_path rcparam was deprecated in Matplotlib 3.3 and will be removed two minor releases later.\n",
      "In C:\\Users\\f.viernes\\Anaconda3\\lib\\site-packages\\matplotlib\\mpl-data\\stylelib\\_classic_test.mplstyle: \n",
      "The animation.avconv_args rcparam was deprecated in Matplotlib 3.3 and will be removed two minor releases later.\n"
     ]
    }
   ],
   "source": [
    "import random\n",
    "import numpy as np\n",
    "import pandas as pd\n",
    "\n",
    "#For data exploration\n",
    "import missingno as msno #A simple library to view completeness of data\n",
    "import matplotlib.pyplot as plt\n",
    "\n",
    "from numpy import random\n",
    "%matplotlib inline"
   ]
  },
  {
   "cell_type": "markdown",
   "metadata": {},
   "source": [
    "As we mentioned in the first article in a series dedicated to missing data, the knowledge of the mechanism or structure of \"missingness\" is crucial because our responses would depend on them.\n",
    "\n",
    "While the list of techniques is growing for handling missing data, we discuss some of the most basic to the most celebrated techniques below. These techniques include data deletion, constant single, and model-based imputations, and so many more.\n",
    "\n",
    "Before we begin discussing them, please note that the application of these techniques requires discernment from the data scientist. Even if we can identify the mechanism of missingness, other information such as the data collection and methodology are needed to choose the most appropriate technique."
   ]
  },
  {
   "cell_type": "markdown",
   "metadata": {},
   "source": [
    "## ADULT INCOME DATASET"
   ]
  },
  {
   "cell_type": "markdown",
   "metadata": {},
   "source": [
    "To reinforce our understanding, let's use a dataset, particularly the Adult Income Dataset."
   ]
  },
  {
   "cell_type": "code",
   "execution_count": 2,
   "metadata": {},
   "outputs": [
    {
     "data": {
      "text/html": [
       "<div>\n",
       "<style scoped>\n",
       "    .dataframe tbody tr th:only-of-type {\n",
       "        vertical-align: middle;\n",
       "    }\n",
       "\n",
       "    .dataframe tbody tr th {\n",
       "        vertical-align: top;\n",
       "    }\n",
       "\n",
       "    .dataframe thead th {\n",
       "        text-align: right;\n",
       "    }\n",
       "</style>\n",
       "<table border=\"1\" class=\"dataframe\">\n",
       "  <thead>\n",
       "    <tr style=\"text-align: right;\">\n",
       "      <th></th>\n",
       "      <th>age</th>\n",
       "      <th>workclass</th>\n",
       "      <th>fnlwgt</th>\n",
       "      <th>education</th>\n",
       "      <th>educational-num</th>\n",
       "      <th>marital-status</th>\n",
       "      <th>occupation</th>\n",
       "      <th>relationship</th>\n",
       "      <th>race</th>\n",
       "      <th>gender</th>\n",
       "      <th>capital-gain</th>\n",
       "      <th>capital-loss</th>\n",
       "      <th>hours-per-week</th>\n",
       "      <th>native-country</th>\n",
       "      <th>income</th>\n",
       "    </tr>\n",
       "  </thead>\n",
       "  <tbody>\n",
       "    <tr>\n",
       "      <th>0</th>\n",
       "      <td>25</td>\n",
       "      <td>Private</td>\n",
       "      <td>226802</td>\n",
       "      <td>11th</td>\n",
       "      <td>7</td>\n",
       "      <td>Never-married</td>\n",
       "      <td>Machine-op-inspct</td>\n",
       "      <td>Own-child</td>\n",
       "      <td>Black</td>\n",
       "      <td>Male</td>\n",
       "      <td>0</td>\n",
       "      <td>0</td>\n",
       "      <td>40</td>\n",
       "      <td>United-States</td>\n",
       "      <td>&lt;=50K</td>\n",
       "    </tr>\n",
       "    <tr>\n",
       "      <th>1</th>\n",
       "      <td>38</td>\n",
       "      <td>Private</td>\n",
       "      <td>89814</td>\n",
       "      <td>HS-grad</td>\n",
       "      <td>9</td>\n",
       "      <td>Married-civ-spouse</td>\n",
       "      <td>Farming-fishing</td>\n",
       "      <td>Husband</td>\n",
       "      <td>White</td>\n",
       "      <td>Male</td>\n",
       "      <td>0</td>\n",
       "      <td>0</td>\n",
       "      <td>50</td>\n",
       "      <td>United-States</td>\n",
       "      <td>&lt;=50K</td>\n",
       "    </tr>\n",
       "    <tr>\n",
       "      <th>2</th>\n",
       "      <td>28</td>\n",
       "      <td>Local-gov</td>\n",
       "      <td>336951</td>\n",
       "      <td>Assoc-acdm</td>\n",
       "      <td>12</td>\n",
       "      <td>Married-civ-spouse</td>\n",
       "      <td>Protective-serv</td>\n",
       "      <td>Husband</td>\n",
       "      <td>White</td>\n",
       "      <td>Male</td>\n",
       "      <td>0</td>\n",
       "      <td>0</td>\n",
       "      <td>40</td>\n",
       "      <td>United-States</td>\n",
       "      <td>&gt;50K</td>\n",
       "    </tr>\n",
       "    <tr>\n",
       "      <th>3</th>\n",
       "      <td>44</td>\n",
       "      <td>Private</td>\n",
       "      <td>160323</td>\n",
       "      <td>Some-college</td>\n",
       "      <td>10</td>\n",
       "      <td>Married-civ-spouse</td>\n",
       "      <td>Machine-op-inspct</td>\n",
       "      <td>Husband</td>\n",
       "      <td>Black</td>\n",
       "      <td>Male</td>\n",
       "      <td>7688</td>\n",
       "      <td>0</td>\n",
       "      <td>40</td>\n",
       "      <td>United-States</td>\n",
       "      <td>&gt;50K</td>\n",
       "    </tr>\n",
       "    <tr>\n",
       "      <th>4</th>\n",
       "      <td>18</td>\n",
       "      <td>NaN</td>\n",
       "      <td>103497</td>\n",
       "      <td>Some-college</td>\n",
       "      <td>10</td>\n",
       "      <td>Never-married</td>\n",
       "      <td>NaN</td>\n",
       "      <td>Own-child</td>\n",
       "      <td>White</td>\n",
       "      <td>Female</td>\n",
       "      <td>0</td>\n",
       "      <td>0</td>\n",
       "      <td>30</td>\n",
       "      <td>United-States</td>\n",
       "      <td>&lt;=50K</td>\n",
       "    </tr>\n",
       "  </tbody>\n",
       "</table>\n",
       "</div>"
      ],
      "text/plain": [
       "   age  workclass  fnlwgt     education  educational-num      marital-status  \\\n",
       "0   25    Private  226802          11th                7       Never-married   \n",
       "1   38    Private   89814       HS-grad                9  Married-civ-spouse   \n",
       "2   28  Local-gov  336951    Assoc-acdm               12  Married-civ-spouse   \n",
       "3   44    Private  160323  Some-college               10  Married-civ-spouse   \n",
       "4   18        NaN  103497  Some-college               10       Never-married   \n",
       "\n",
       "          occupation relationship   race  gender  capital-gain  capital-loss  \\\n",
       "0  Machine-op-inspct    Own-child  Black    Male             0             0   \n",
       "1    Farming-fishing      Husband  White    Male             0             0   \n",
       "2    Protective-serv      Husband  White    Male             0             0   \n",
       "3  Machine-op-inspct      Husband  Black    Male          7688             0   \n",
       "4                NaN    Own-child  White  Female             0             0   \n",
       "\n",
       "   hours-per-week native-country income  \n",
       "0              40  United-States  <=50K  \n",
       "1              50  United-States  <=50K  \n",
       "2              40  United-States   >50K  \n",
       "3              40  United-States   >50K  \n",
       "4              30  United-States  <=50K  "
      ]
     },
     "execution_count": 2,
     "metadata": {},
     "output_type": "execute_result"
    }
   ],
   "source": [
    "df = pd.read_csv('data/adult.csv')\n",
    "\n",
    "#Replace the character \"?\" with \n",
    "replace_dict = {\n",
    "    \"?\": np.nan}\n",
    "\n",
    "df.replace(to_replace =replace_dict.keys(), \n",
    "                 value =replace_dict.values(), inplace=True)\n",
    "\n",
    "df.head()"
   ]
  },
  {
   "cell_type": "code",
   "execution_count": 3,
   "metadata": {
    "scrolled": false
   },
   "outputs": [
    {
     "data": {
      "text/plain": [
       "<AxesSubplot:>"
      ]
     },
     "execution_count": 3,
     "metadata": {},
     "output_type": "execute_result"
    },
    {
     "data": {
      "image/png": "[encoded data removed]",
      "text/plain": [
       "<Figure size 1800x720 with 2 Axes>"
      ]
     },
     "metadata": {
      "needs_background": "light"
     },
     "output_type": "display_data"
    }
   ],
   "source": [
    "msno.matrix(df)"
   ]
  },
  {
   "cell_type": "markdown",
   "metadata": {},
   "source": [
    "## SIMULATE MISSIGNESS"
   ]
  },
  {
   "cell_type": "markdown",
   "metadata": {},
   "source": [
    "Let us simulate some missingness for some of our continuous variables: age and fnlwgt. Note that income here is the target variable and is a categorical variable."
   ]
  },
  {
   "cell_type": "code",
   "execution_count": 4,
   "metadata": {},
   "outputs": [
    {
     "data": {
      "text/plain": [
       "<AxesSubplot:>"
      ]
     },
     "execution_count": 4,
     "metadata": {},
     "output_type": "execute_result"
    },
    {
     "data": {
      "image/png": "[encoded data removed]",
      "text/plain": [
       "<Figure size 1800x720 with 2 Axes>"
      ]
     },
     "metadata": {
      "needs_background": "light"
     },
     "output_type": "display_data"
    }
   ],
   "source": [
    "#Save  copy of the original df\n",
    "orig_df = df.copy()\n",
    "\n",
    "#Random Seed\n",
    "random.seed(25)\n",
    "\n",
    "#Percentage Missing\n",
    "percentage_missing_1 = 0.15\n",
    "percentage_missing_2 = 0.10\n",
    "\n",
    "#Number of Observations\n",
    "obs = df.shape[0]\n",
    "\n",
    "#Simulation\n",
    "df[\"fnlwgt\"] = random.binomial(1,(1-percentage_missing_1), size=obs)*df['fnlwgt']\n",
    "df[\"age\"] = random.binomial(1,(1-percentage_missing_2), size=obs)*df['age']\n",
    "df[\"fnlwgt\"] = df[\"fnlwgt\"].replace(0, np.nan)\n",
    "df[\"age\"]= df[\"age\"].replace(0, np.nan)\n",
    "\n",
    "msno.matrix(df)\n",
    "\n",
    "\n"
   ]
  },
  {
   "cell_type": "code",
   "execution_count": 5,
   "metadata": {},
   "outputs": [
    {
     "name": "stdout",
     "output_type": "stream",
     "text": [
      "<class 'pandas.core.frame.DataFrame'>\n",
      "RangeIndex: 48842 entries, 0 to 48841\n",
      "Data columns (total 15 columns):\n",
      " #   Column           Non-Null Count  Dtype  \n",
      "---  ------           --------------  -----  \n",
      " 0   age              43893 non-null  float64\n",
      " 1   workclass        46043 non-null  object \n",
      " 2   fnlwgt           41409 non-null  float64\n",
      " 3   education        48842 non-null  object \n",
      " 4   educational-num  48842 non-null  int64  \n",
      " 5   marital-status   48842 non-null  object \n",
      " 6   occupation       46033 non-null  object \n",
      " 7   relationship     48842 non-null  object \n",
      " 8   race             48842 non-null  object \n",
      " 9   gender           48842 non-null  object \n",
      " 10  capital-gain     48842 non-null  int64  \n",
      " 11  capital-loss     48842 non-null  int64  \n",
      " 12  hours-per-week   48842 non-null  int64  \n",
      " 13  native-country   47985 non-null  object \n",
      " 14  income           48842 non-null  object \n",
      "dtypes: float64(2), int64(4), object(9)\n",
      "memory usage: 5.6+ MB\n"
     ]
    }
   ],
   "source": [
    "df.info()"
   ]
  },
  {
   "cell_type": "markdown",
   "metadata": {},
   "source": [
    "We have the highest number of missing data for the \"final weight\" variable. This is consistent with our missing data simulation."
   ]
  },
  {
   "cell_type": "markdown",
   "metadata": {},
   "source": [
    "# DATA DELETION METHODS"
   ]
  },
  {
   "cell_type": "markdown",
   "metadata": {},
   "source": [
    "The simplest data handling method across all data science blogs (and even some published articles) is data deletion. But as we have mentioned in our introduction, data deletion diminishes the effectiveness of our models especially if the amount of missing data is significant."
   ]
  },
  {
   "cell_type": "markdown",
   "metadata": {},
   "source": [
    "## LISTWISE METHOD \\ COMPLETE CASE METHOD"
   ]
  },
  {
   "cell_type": "markdown",
   "metadata": {},
   "source": [
    "From the name itself, listwise or complete method drops an observation as long as one value is missing. If this is applied carelessly, review how this reduces our observations:"
   ]
  },
  {
   "cell_type": "code",
   "execution_count": 6,
   "metadata": {},
   "outputs": [
    {
     "data": {
      "text/plain": [
       "34454"
      ]
     },
     "execution_count": 6,
     "metadata": {},
     "output_type": "execute_result"
    }
   ],
   "source": [
    "df1 = df.copy()\n",
    "df1.dropna(inplace=True)\n",
    "df1.shape[0]"
   ]
  },
  {
   "cell_type": "markdown",
   "metadata": {},
   "source": [
    "### BEFORE APPLYING LISTWISE DELETION"
   ]
  },
  {
   "cell_type": "markdown",
   "metadata": {},
   "source": [
    "Before deciding what to do with missing data, especially if you plan to apply listwise deletion, you need to identify relevant variables first for your study. \n",
    "\n",
    "If the variable is not gonna be needed, it does not matter whether the particular item is missing or not and should be excluded in the subset of dataframe before applying listwise deletion.\n",
    "\n",
    "For example: if we think that the final weight is irrelevant to our study (e.g. predicting income class) we can exclude it from our features dataframe."
   ]
  },
  {
   "cell_type": "code",
   "execution_count": 7,
   "metadata": {},
   "outputs": [],
   "source": [
    "df2 = df.copy()\n",
    "df2 = df2.loc[:, df2.columns != 'fnlwgt']"
   ]
  },
  {
   "cell_type": "code",
   "execution_count": 8,
   "metadata": {},
   "outputs": [
    {
     "data": {
      "text/plain": [
       "40636"
      ]
     },
     "execution_count": 8,
     "metadata": {},
     "output_type": "execute_result"
    }
   ],
   "source": [
    "df2.dropna(inplace=True)\n",
    "df2.shape[0]\n",
    "\n",
    "df2.dropna(inplace=True)\n",
    "df2.shape[0]"
   ]
  },
  {
   "cell_type": "markdown",
   "metadata": {},
   "source": [
    "## PAIRWISE DELETION \\ AVAILABLE CASE METHOD"
   ]
  },
  {
   "cell_type": "markdown",
   "metadata": {},
   "source": [
    "In contrast with listwise deletion, the available case method uses all available observations. That is, if a feature/variable for an observation is missing, a method or technique that uses this discards only the variable with missing information and not the entire observation.\n",
    "\n",
    "For example, if an observation above in our dataframe does not contain a value for \"final weight\", then measures/metrics or parameters that require the final weight value would not be calculated for that observation. Everything else, will still continue to make use of that observation.\n",
    "\n",
    "This method is so unappreciated, that most do not recognize that this is the method employed in correlation analysis. To see this in action:"
   ]
  },
  {
   "cell_type": "code",
   "execution_count": 9,
   "metadata": {},
   "outputs": [
    {
     "data": {
      "text/html": [
       "<div>\n",
       "<style scoped>\n",
       "    .dataframe tbody tr th:only-of-type {\n",
       "        vertical-align: middle;\n",
       "    }\n",
       "\n",
       "    .dataframe tbody tr th {\n",
       "        vertical-align: top;\n",
       "    }\n",
       "\n",
       "    .dataframe thead th {\n",
       "        text-align: right;\n",
       "    }\n",
       "</style>\n",
       "<table border=\"1\" class=\"dataframe\">\n",
       "  <thead>\n",
       "    <tr style=\"text-align: right;\">\n",
       "      <th></th>\n",
       "      <th>age</th>\n",
       "      <th>fnlwgt</th>\n",
       "      <th>educational-num</th>\n",
       "      <th>capital-gain</th>\n",
       "      <th>capital-loss</th>\n",
       "      <th>hours-per-week</th>\n",
       "    </tr>\n",
       "  </thead>\n",
       "  <tbody>\n",
       "    <tr>\n",
       "      <th>age</th>\n",
       "      <td>1.000000</td>\n",
       "      <td>-0.077254</td>\n",
       "      <td>0.030439</td>\n",
       "      <td>0.078056</td>\n",
       "      <td>0.055760</td>\n",
       "      <td>0.068930</td>\n",
       "    </tr>\n",
       "    <tr>\n",
       "      <th>fnlwgt</th>\n",
       "      <td>-0.077254</td>\n",
       "      <td>1.000000</td>\n",
       "      <td>-0.039073</td>\n",
       "      <td>-0.001364</td>\n",
       "      <td>-0.004975</td>\n",
       "      <td>-0.014363</td>\n",
       "    </tr>\n",
       "    <tr>\n",
       "      <th>educational-num</th>\n",
       "      <td>0.030439</td>\n",
       "      <td>-0.039073</td>\n",
       "      <td>1.000000</td>\n",
       "      <td>0.125146</td>\n",
       "      <td>0.080972</td>\n",
       "      <td>0.143689</td>\n",
       "    </tr>\n",
       "    <tr>\n",
       "      <th>capital-gain</th>\n",
       "      <td>0.078056</td>\n",
       "      <td>-0.001364</td>\n",
       "      <td>0.125146</td>\n",
       "      <td>1.000000</td>\n",
       "      <td>-0.031441</td>\n",
       "      <td>0.082157</td>\n",
       "    </tr>\n",
       "    <tr>\n",
       "      <th>capital-loss</th>\n",
       "      <td>0.055760</td>\n",
       "      <td>-0.004975</td>\n",
       "      <td>0.080972</td>\n",
       "      <td>-0.031441</td>\n",
       "      <td>1.000000</td>\n",
       "      <td>0.054467</td>\n",
       "    </tr>\n",
       "    <tr>\n",
       "      <th>hours-per-week</th>\n",
       "      <td>0.068930</td>\n",
       "      <td>-0.014363</td>\n",
       "      <td>0.143689</td>\n",
       "      <td>0.082157</td>\n",
       "      <td>0.054467</td>\n",
       "      <td>1.000000</td>\n",
       "    </tr>\n",
       "  </tbody>\n",
       "</table>\n",
       "</div>"
      ],
      "text/plain": [
       "                      age    fnlwgt  educational-num  capital-gain  \\\n",
       "age              1.000000 -0.077254         0.030439      0.078056   \n",
       "fnlwgt          -0.077254  1.000000        -0.039073     -0.001364   \n",
       "educational-num  0.030439 -0.039073         1.000000      0.125146   \n",
       "capital-gain     0.078056 -0.001364         0.125146      1.000000   \n",
       "capital-loss     0.055760 -0.004975         0.080972     -0.031441   \n",
       "hours-per-week   0.068930 -0.014363         0.143689      0.082157   \n",
       "\n",
       "                 capital-loss  hours-per-week  \n",
       "age                  0.055760        0.068930  \n",
       "fnlwgt              -0.004975       -0.014363  \n",
       "educational-num      0.080972        0.143689  \n",
       "capital-gain        -0.031441        0.082157  \n",
       "capital-loss         1.000000        0.054467  \n",
       "hours-per-week       0.054467        1.000000  "
      ]
     },
     "execution_count": 9,
     "metadata": {},
     "output_type": "execute_result"
    }
   ],
   "source": [
    "df.corr()"
   ]
  },
  {
   "cell_type": "markdown",
   "metadata": {},
   "source": [
    "Notice that we used the original dataframe with missing values and a correlation can still be calculated. In addition to correlation analysis, pairwise method is used for factor analysis."
   ]
  },
  {
   "cell_type": "markdown",
   "metadata": {},
   "source": [
    "## AVAILABLE ITEM METHOD"
   ]
  },
  {
   "cell_type": "markdown",
   "metadata": {},
   "source": [
    "A method used for the creation of composite variables is that of the available item method. This method, like the available case method, uses all available information available.\n",
    "\n",
    "The available item method aggregates across correlated items by:\n",
    "\n",
    "1.  First applying a standardization method, for example, z-score.\n",
    "2.  After that, the transformed variables, instead of being added, are averaged for each observation.\n",
    "\n",
    "Thus, a composite score can now be created.\n",
    "\n",
    "Now, this is called a deletion method because it makes no attempt to replace missing values.\n",
    "\n",
    "If you are planning to create composite scores, one can simply apply this algorithm"
   ]
  },
  {
   "cell_type": "markdown",
   "metadata": {},
   "source": [
    "# IMPUTATION METHODS"
   ]
  },
  {
   "cell_type": "markdown",
   "metadata": {},
   "source": [
    "Now that we have a dataset to practice our imputations, let us begin to discuss what these are. \n",
    "While we will be discussing the theories and concepts behind, let us employ Scikit-learn to do the dirty work for us."
   ]
  },
  {
   "cell_type": "markdown",
   "metadata": {},
   "source": [
    "## CONSTANT REPLACEMENT METHOD"
   ]
  },
  {
   "cell_type": "markdown",
   "metadata": {},
   "source": [
    "### MEAN SUBSTITUTION"
   ]
  },
  {
   "cell_type": "code",
   "execution_count": 10,
   "metadata": {},
   "outputs": [],
   "source": [
    "#Import the imputer\n",
    "from sklearn.impute import SimpleImputer\n",
    "#Initiate the imputer object\n",
    "imp = SimpleImputer(missing_values=np.nan, strategy='mean')\n",
    "#Isolate the columns where we want to import\n",
    "X = df[['age', 'fnlwgt']]\n",
    "\n",
    "#Fit to learn the mean\n",
    "imp.fit(X)\n",
    "\n",
    "#Impute\n",
    "imputed = imp.transform(X)"
   ]
  },
  {
   "cell_type": "code",
   "execution_count": 11,
   "metadata": {},
   "outputs": [],
   "source": [
    "df3 = df.copy()\n",
    "#Let's get the index so we can compare\n",
    "age_missing = df3[pd.isnull(df3.age)]['age'].index\n",
    "fnlwgt_missing = df3[pd.isnull(df3['fnlwgt'])]['fnlwgt'].index\n"
   ]
  },
  {
   "cell_type": "code",
   "execution_count": 12,
   "metadata": {},
   "outputs": [],
   "source": [
    "#Create a new dataset to compare\n",
    "mean_imputed = pd.DataFrame(imputed, columns=['age_mean.imp', 'fnlwgt_mean.imp'])\n",
    "#mean_imputed.loc[age_missing, 'age_mean.imp']"
   ]
  },
  {
   "cell_type": "code",
   "execution_count": 13,
   "metadata": {},
   "outputs": [
    {
     "data": {
      "text/html": [
       "<div>\n",
       "<style scoped>\n",
       "    .dataframe tbody tr th:only-of-type {\n",
       "        vertical-align: middle;\n",
       "    }\n",
       "\n",
       "    .dataframe tbody tr th {\n",
       "        vertical-align: top;\n",
       "    }\n",
       "\n",
       "    .dataframe thead th {\n",
       "        text-align: right;\n",
       "    }\n",
       "</style>\n",
       "<table border=\"1\" class=\"dataframe\">\n",
       "  <thead>\n",
       "    <tr style=\"text-align: right;\">\n",
       "      <th></th>\n",
       "      <th>fnlwgt_orig</th>\n",
       "      <th>fnlwgt_MCAR</th>\n",
       "      <th>fnlwgt_mean.imp</th>\n",
       "    </tr>\n",
       "  </thead>\n",
       "  <tbody>\n",
       "    <tr>\n",
       "      <th>0</th>\n",
       "      <td>226802</td>\n",
       "      <td>NaN</td>\n",
       "      <td>189474.231302</td>\n",
       "    </tr>\n",
       "    <tr>\n",
       "      <th>23</th>\n",
       "      <td>220931</td>\n",
       "      <td>NaN</td>\n",
       "      <td>189474.231302</td>\n",
       "    </tr>\n",
       "    <tr>\n",
       "      <th>31</th>\n",
       "      <td>186651</td>\n",
       "      <td>NaN</td>\n",
       "      <td>189474.231302</td>\n",
       "    </tr>\n",
       "    <tr>\n",
       "      <th>44</th>\n",
       "      <td>138371</td>\n",
       "      <td>NaN</td>\n",
       "      <td>189474.231302</td>\n",
       "    </tr>\n",
       "    <tr>\n",
       "      <th>45</th>\n",
       "      <td>242832</td>\n",
       "      <td>NaN</td>\n",
       "      <td>189474.231302</td>\n",
       "    </tr>\n",
       "    <tr>\n",
       "      <th>...</th>\n",
       "      <td>...</td>\n",
       "      <td>...</td>\n",
       "      <td>...</td>\n",
       "    </tr>\n",
       "    <tr>\n",
       "      <th>48804</th>\n",
       "      <td>77266</td>\n",
       "      <td>NaN</td>\n",
       "      <td>189474.231302</td>\n",
       "    </tr>\n",
       "    <tr>\n",
       "      <th>48805</th>\n",
       "      <td>191648</td>\n",
       "      <td>NaN</td>\n",
       "      <td>189474.231302</td>\n",
       "    </tr>\n",
       "    <tr>\n",
       "      <th>48817</th>\n",
       "      <td>160216</td>\n",
       "      <td>NaN</td>\n",
       "      <td>189474.231302</td>\n",
       "    </tr>\n",
       "    <tr>\n",
       "      <th>48828</th>\n",
       "      <td>260761</td>\n",
       "      <td>NaN</td>\n",
       "      <td>189474.231302</td>\n",
       "    </tr>\n",
       "    <tr>\n",
       "      <th>48833</th>\n",
       "      <td>84661</td>\n",
       "      <td>NaN</td>\n",
       "      <td>189474.231302</td>\n",
       "    </tr>\n",
       "  </tbody>\n",
       "</table>\n",
       "<p>7433 rows × 3 columns</p>\n",
       "</div>"
      ],
      "text/plain": [
       "       fnlwgt_orig  fnlwgt_MCAR  fnlwgt_mean.imp\n",
       "0           226802          NaN    189474.231302\n",
       "23          220931          NaN    189474.231302\n",
       "31          186651          NaN    189474.231302\n",
       "44          138371          NaN    189474.231302\n",
       "45          242832          NaN    189474.231302\n",
       "...            ...          ...              ...\n",
       "48804        77266          NaN    189474.231302\n",
       "48805       191648          NaN    189474.231302\n",
       "48817       160216          NaN    189474.231302\n",
       "48828       260761          NaN    189474.231302\n",
       "48833        84661          NaN    189474.231302\n",
       "\n",
       "[7433 rows x 3 columns]"
      ]
     },
     "execution_count": 13,
     "metadata": {},
     "output_type": "execute_result"
    }
   ],
   "source": [
    "#Include Full Dataset in the Comparison\n",
    "comparison = pd.concat([orig_df[['age', 'fnlwgt']], X], axis=1)\n",
    "\n",
    "#Rename so We can Compare Across Datasets\n",
    "comparison.columns = [\"age_orig\", \"fnlwgt_orig\", \"age_MCAR\", \"fnlwgt_MCAR\"]\n",
    "\n",
    "#Concatenate\n",
    "comparison = pd.concat([comparison, mean_imputed], axis=1)\n",
    "\n",
    "#View the comparison across dataset\n",
    "comparison.loc[fnlwgt_missing,[\"fnlwgt_orig\",\"fnlwgt_MCAR\", \"fnlwgt_mean.imp\"]]"
   ]
  },
  {
   "cell_type": "code",
   "execution_count": 14,
   "metadata": {},
   "outputs": [
    {
     "data": {
      "text/plain": [
       "fnlwgt_orig        189664.134597\n",
       "fnlwgt_MCAR        189474.231302\n",
       "fnlwgt_mean.imp    189474.231302\n",
       "dtype: float64"
      ]
     },
     "execution_count": 14,
     "metadata": {},
     "output_type": "execute_result"
    }
   ],
   "source": [
    "comparison[[\"fnlwgt_orig\",\"fnlwgt_MCAR\", \"fnlwgt_mean.imp\"]].mean()"
   ]
  },
  {
   "cell_type": "code",
   "execution_count": 15,
   "metadata": {},
   "outputs": [
    {
     "data": {
      "text/plain": [
       "fnlwgt_orig        1.115221e+10\n",
       "fnlwgt_MCAR        1.110750e+10\n",
       "fnlwgt_mean.imp    9.417072e+09\n",
       "dtype: float64"
      ]
     },
     "execution_count": 15,
     "metadata": {},
     "output_type": "execute_result"
    }
   ],
   "source": [
    "comparison[[\"fnlwgt_orig\",\"fnlwgt_MCAR\", \"fnlwgt_mean.imp\"]].var()"
   ]
  },
  {
   "cell_type": "markdown",
   "metadata": {},
   "source": [
    "Mean imputation preserves the mean of the dataset with missing values, as can be seen in our example above. This, however, is only appropriate if we assume that our data is normally distributed where it is common to assume that most observations are around the mean anyway. It also is substantially helpful, for small missing data cases.\n",
    "\n",
    "The main disadvantage of mean imputation is the fact that it tends to produce bias estimates for some parameters, particularly the variance of data. This fact affects the construction of confidence intervals which is a serious issue for some researchers.\n",
    "\n",
    "There is one way to remedy this a bit and this goes for all the constant replacement methods: One can impute different means for different subgroups. For example, for 'age' value imputation, you can choose to impute the mean age for males for all the observations where the age value is missing and the observation belongs to the male group class."
   ]
  },
  {
   "cell_type": "markdown",
   "metadata": {},
   "source": [
    "### MAXIMUM LIKELIHOOD MEAN SUBSTITUTION"
   ]
  },
  {
   "cell_type": "markdown",
   "metadata": {},
   "source": [
    "The maximum likelihood (ML) method is an amazing technique that has the greatest capability of recovering the true population parameters. \n",
    "\n",
    "ML methods are highly praised and used because they make use of each and every one observation of the dataset to estimate the population parameters. So if your dataset is MCAR, it has the greatest probability of convergence.\n",
    "\n",
    "We will be discussing this in detail and the mathematics behind it again in the \"model-based\" data augmentation technique but for now, let's calculate the ML mean of our dataset."
   ]
  },
  {
   "cell_type": "code",
   "execution_count": 16,
   "metadata": {},
   "outputs": [],
   "source": [
    "from scipy import stats\n",
    "from scipy.optimize import minimize\n",
    "\n",
    "def age_ML_mean(params):\n",
    "    mean = params[0]   \n",
    "    sd = params[1]\n",
    "\n",
    "    # Calculate negative log likelihood\n",
    "    nll = -np.sum(stats.norm.logpdf(df.age.dropna(), loc=mean, scale=sd))\n",
    "\n",
    "    return nll\n",
    "\n",
    "\n",
    "initParams = [1, 1]\n",
    "\n",
    "age_results = minimize(age_ML_mean, initParams, method='Nelder-Mead')\n",
    "mle_age = age_results.x[0]"
   ]
  },
  {
   "cell_type": "code",
   "execution_count": 17,
   "metadata": {},
   "outputs": [],
   "source": [
    "def fnlwgt_ML_mean(params):\n",
    "    mean = params[0]   \n",
    "    sd = params[1]\n",
    "\n",
    "    # Calculate negative log likelihood\n",
    "    nll = -np.sum(stats.norm.logpdf(df['fnlwgt'].dropna(), loc=mean, scale=sd))\n",
    "\n",
    "    return nll\n",
    "\n",
    "\n",
    "initParams = [7, 12]\n",
    "\n",
    "fnlwgt_results = minimize(fnlwgt_ML_mean, initParams, method='Nelder-Mead')\n",
    "mle_fnlwgt = fnlwgt_results.x[0]"
   ]
  },
  {
   "cell_type": "code",
   "execution_count": 18,
   "metadata": {},
   "outputs": [
    {
     "data": {
      "text/plain": [
       "array([189474.22618208, 105390.83346926])"
      ]
     },
     "execution_count": 18,
     "metadata": {},
     "output_type": "execute_result"
    }
   ],
   "source": [
    "fnlwgt_results.x"
   ]
  },
  {
   "cell_type": "markdown",
   "metadata": {},
   "source": [
    "For smaller datasets, as long as we got the correct distributional assumptions, then the ML estimate for mean may actually be better than what we get for ordinary mean estimation.\n",
    "\n",
    "After getting the estimate, you can therefore substitute it as a constant to the imputer.\n",
    "A particular disadvantage for the use of Maximum-Likelihood methods is that we need to assume the distribution of the data. Prior knowledge of the distribution or some preliminary EDA may help a bit in this regard. In addition, a separate MLE calculation is done per feature unlike the mean and median constant replacements."
   ]
  },
  {
   "cell_type": "code",
   "execution_count": 19,
   "metadata": {},
   "outputs": [
    {
     "data": {
      "text/html": [
       "<div>\n",
       "<style scoped>\n",
       "    .dataframe tbody tr th:only-of-type {\n",
       "        vertical-align: middle;\n",
       "    }\n",
       "\n",
       "    .dataframe tbody tr th {\n",
       "        vertical-align: top;\n",
       "    }\n",
       "\n",
       "    .dataframe thead th {\n",
       "        text-align: right;\n",
       "    }\n",
       "</style>\n",
       "<table border=\"1\" class=\"dataframe\">\n",
       "  <thead>\n",
       "    <tr style=\"text-align: right;\">\n",
       "      <th></th>\n",
       "      <th>age_orig</th>\n",
       "      <th>age_MCAR</th>\n",
       "      <th>age_mean.imp</th>\n",
       "      <th>age_mle.imp</th>\n",
       "    </tr>\n",
       "  </thead>\n",
       "  <tbody>\n",
       "    <tr>\n",
       "      <th>10</th>\n",
       "      <td>65</td>\n",
       "      <td>NaN</td>\n",
       "      <td>38.618071</td>\n",
       "      <td>38.618026</td>\n",
       "    </tr>\n",
       "    <tr>\n",
       "      <th>43</th>\n",
       "      <td>29</td>\n",
       "      <td>NaN</td>\n",
       "      <td>38.618071</td>\n",
       "      <td>38.618026</td>\n",
       "    </tr>\n",
       "    <tr>\n",
       "      <th>49</th>\n",
       "      <td>56</td>\n",
       "      <td>NaN</td>\n",
       "      <td>38.618071</td>\n",
       "      <td>38.618026</td>\n",
       "    </tr>\n",
       "    <tr>\n",
       "      <th>57</th>\n",
       "      <td>34</td>\n",
       "      <td>NaN</td>\n",
       "      <td>38.618071</td>\n",
       "      <td>38.618026</td>\n",
       "    </tr>\n",
       "    <tr>\n",
       "      <th>79</th>\n",
       "      <td>20</td>\n",
       "      <td>NaN</td>\n",
       "      <td>38.618071</td>\n",
       "      <td>38.618026</td>\n",
       "    </tr>\n",
       "    <tr>\n",
       "      <th>...</th>\n",
       "      <td>...</td>\n",
       "      <td>...</td>\n",
       "      <td>...</td>\n",
       "      <td>...</td>\n",
       "    </tr>\n",
       "    <tr>\n",
       "      <th>48733</th>\n",
       "      <td>32</td>\n",
       "      <td>NaN</td>\n",
       "      <td>38.618071</td>\n",
       "      <td>38.618026</td>\n",
       "    </tr>\n",
       "    <tr>\n",
       "      <th>48756</th>\n",
       "      <td>22</td>\n",
       "      <td>NaN</td>\n",
       "      <td>38.618071</td>\n",
       "      <td>38.618026</td>\n",
       "    </tr>\n",
       "    <tr>\n",
       "      <th>48764</th>\n",
       "      <td>27</td>\n",
       "      <td>NaN</td>\n",
       "      <td>38.618071</td>\n",
       "      <td>38.618026</td>\n",
       "    </tr>\n",
       "    <tr>\n",
       "      <th>48786</th>\n",
       "      <td>33</td>\n",
       "      <td>NaN</td>\n",
       "      <td>38.618071</td>\n",
       "      <td>38.618026</td>\n",
       "    </tr>\n",
       "    <tr>\n",
       "      <th>48832</th>\n",
       "      <td>32</td>\n",
       "      <td>NaN</td>\n",
       "      <td>38.618071</td>\n",
       "      <td>38.618026</td>\n",
       "    </tr>\n",
       "  </tbody>\n",
       "</table>\n",
       "<p>4949 rows × 4 columns</p>\n",
       "</div>"
      ],
      "text/plain": [
       "       age_orig  age_MCAR  age_mean.imp  age_mle.imp\n",
       "10           65       NaN     38.618071    38.618026\n",
       "43           29       NaN     38.618071    38.618026\n",
       "49           56       NaN     38.618071    38.618026\n",
       "57           34       NaN     38.618071    38.618026\n",
       "79           20       NaN     38.618071    38.618026\n",
       "...         ...       ...           ...          ...\n",
       "48733        32       NaN     38.618071    38.618026\n",
       "48756        22       NaN     38.618071    38.618026\n",
       "48764        27       NaN     38.618071    38.618026\n",
       "48786        33       NaN     38.618071    38.618026\n",
       "48832        32       NaN     38.618071    38.618026\n",
       "\n",
       "[4949 rows x 4 columns]"
      ]
     },
     "execution_count": 19,
     "metadata": {},
     "output_type": "execute_result"
    }
   ],
   "source": [
    "imp = SimpleImputer(missing_values=np.nan, strategy='constant', fill_value=mle_age)\n",
    "\n",
    "#Fit\n",
    "imp.fit(X['age'].values.reshape(-1, 1))\n",
    "\n",
    "mle_imputed = pd.DataFrame(imp.transform(X['age'].values.reshape(-1, 1)), columns=['age_mle.imp'])\n",
    "comparison = pd.concat([comparison, mle_imputed], axis=1)\n",
    "\n",
    "#View the comparison across dataset\n",
    "comparison.loc[age_missing,[\"age_orig\",\"age_MCAR\", \"age_mean.imp\", 'age_mle.imp']]"
   ]
  },
  {
   "cell_type": "code",
   "execution_count": 20,
   "metadata": {},
   "outputs": [
    {
     "data": {
      "text/html": [
       "<div>\n",
       "<style scoped>\n",
       "    .dataframe tbody tr th:only-of-type {\n",
       "        vertical-align: middle;\n",
       "    }\n",
       "\n",
       "    .dataframe tbody tr th {\n",
       "        vertical-align: top;\n",
       "    }\n",
       "\n",
       "    .dataframe thead th {\n",
       "        text-align: right;\n",
       "    }\n",
       "</style>\n",
       "<table border=\"1\" class=\"dataframe\">\n",
       "  <thead>\n",
       "    <tr style=\"text-align: right;\">\n",
       "      <th></th>\n",
       "      <th>fnlwgt_orig</th>\n",
       "      <th>fnlwgt_MCAR</th>\n",
       "      <th>fnlwgt_mean.imp</th>\n",
       "      <th>fnlwgt_mle.imp</th>\n",
       "    </tr>\n",
       "  </thead>\n",
       "  <tbody>\n",
       "    <tr>\n",
       "      <th>0</th>\n",
       "      <td>226802</td>\n",
       "      <td>NaN</td>\n",
       "      <td>189474.231302</td>\n",
       "      <td>189474.226182</td>\n",
       "    </tr>\n",
       "    <tr>\n",
       "      <th>23</th>\n",
       "      <td>220931</td>\n",
       "      <td>NaN</td>\n",
       "      <td>189474.231302</td>\n",
       "      <td>189474.226182</td>\n",
       "    </tr>\n",
       "    <tr>\n",
       "      <th>31</th>\n",
       "      <td>186651</td>\n",
       "      <td>NaN</td>\n",
       "      <td>189474.231302</td>\n",
       "      <td>189474.226182</td>\n",
       "    </tr>\n",
       "    <tr>\n",
       "      <th>44</th>\n",
       "      <td>138371</td>\n",
       "      <td>NaN</td>\n",
       "      <td>189474.231302</td>\n",
       "      <td>189474.226182</td>\n",
       "    </tr>\n",
       "    <tr>\n",
       "      <th>45</th>\n",
       "      <td>242832</td>\n",
       "      <td>NaN</td>\n",
       "      <td>189474.231302</td>\n",
       "      <td>189474.226182</td>\n",
       "    </tr>\n",
       "    <tr>\n",
       "      <th>...</th>\n",
       "      <td>...</td>\n",
       "      <td>...</td>\n",
       "      <td>...</td>\n",
       "      <td>...</td>\n",
       "    </tr>\n",
       "    <tr>\n",
       "      <th>48804</th>\n",
       "      <td>77266</td>\n",
       "      <td>NaN</td>\n",
       "      <td>189474.231302</td>\n",
       "      <td>189474.226182</td>\n",
       "    </tr>\n",
       "    <tr>\n",
       "      <th>48805</th>\n",
       "      <td>191648</td>\n",
       "      <td>NaN</td>\n",
       "      <td>189474.231302</td>\n",
       "      <td>189474.226182</td>\n",
       "    </tr>\n",
       "    <tr>\n",
       "      <th>48817</th>\n",
       "      <td>160216</td>\n",
       "      <td>NaN</td>\n",
       "      <td>189474.231302</td>\n",
       "      <td>189474.226182</td>\n",
       "    </tr>\n",
       "    <tr>\n",
       "      <th>48828</th>\n",
       "      <td>260761</td>\n",
       "      <td>NaN</td>\n",
       "      <td>189474.231302</td>\n",
       "      <td>189474.226182</td>\n",
       "    </tr>\n",
       "    <tr>\n",
       "      <th>48833</th>\n",
       "      <td>84661</td>\n",
       "      <td>NaN</td>\n",
       "      <td>189474.231302</td>\n",
       "      <td>189474.226182</td>\n",
       "    </tr>\n",
       "  </tbody>\n",
       "</table>\n",
       "<p>7433 rows × 4 columns</p>\n",
       "</div>"
      ],
      "text/plain": [
       "       fnlwgt_orig  fnlwgt_MCAR  fnlwgt_mean.imp  fnlwgt_mle.imp\n",
       "0           226802          NaN    189474.231302   189474.226182\n",
       "23          220931          NaN    189474.231302   189474.226182\n",
       "31          186651          NaN    189474.231302   189474.226182\n",
       "44          138371          NaN    189474.231302   189474.226182\n",
       "45          242832          NaN    189474.231302   189474.226182\n",
       "...            ...          ...              ...             ...\n",
       "48804        77266          NaN    189474.231302   189474.226182\n",
       "48805       191648          NaN    189474.231302   189474.226182\n",
       "48817       160216          NaN    189474.231302   189474.226182\n",
       "48828       260761          NaN    189474.231302   189474.226182\n",
       "48833        84661          NaN    189474.231302   189474.226182\n",
       "\n",
       "[7433 rows x 4 columns]"
      ]
     },
     "execution_count": 20,
     "metadata": {},
     "output_type": "execute_result"
    }
   ],
   "source": [
    "imp = SimpleImputer(missing_values=np.nan, strategy='constant', fill_value=mle_fnlwgt)\n",
    "\n",
    "#Fit\n",
    "imp.fit(X['fnlwgt'].values.reshape(-1, 1))\n",
    "\n",
    "mle_imputed = pd.DataFrame(imp.transform(X['fnlwgt'].values.reshape(-1, 1)), columns=['fnlwgt_mle.imp'])\n",
    "comparison = pd.concat([comparison, mle_imputed], axis=1)\n",
    "#View the comparison across dataset\n",
    "comparison.loc[fnlwgt_missing,[\"fnlwgt_orig\",\"fnlwgt_MCAR\", \"fnlwgt_mean.imp\", 'fnlwgt_mle.imp']]"
   ]
  },
  {
   "cell_type": "code",
   "execution_count": 21,
   "metadata": {},
   "outputs": [
    {
     "data": {
      "text/plain": [
       "fnlwgt_orig        189664.134597\n",
       "fnlwgt_MCAR        189474.231302\n",
       "fnlwgt_mean.imp    189474.231302\n",
       "fnlwgt_mle.imp     189474.230523\n",
       "dtype: float64"
      ]
     },
     "execution_count": 21,
     "metadata": {},
     "output_type": "execute_result"
    }
   ],
   "source": [
    "#Mean Comparisons\n",
    "comparison[[\"fnlwgt_orig\",\"fnlwgt_MCAR\", \"fnlwgt_mean.imp\", 'fnlwgt_mle.imp']].mean()"
   ]
  },
  {
   "cell_type": "code",
   "execution_count": 22,
   "metadata": {},
   "outputs": [
    {
     "data": {
      "text/plain": [
       "fnlwgt_orig        105604.025423\n",
       "fnlwgt_MCAR        105392.105559\n",
       "fnlwgt_mean.imp     97041.596928\n",
       "fnlwgt_mle.imp      97041.596928\n",
       "dtype: float64"
      ]
     },
     "execution_count": 22,
     "metadata": {},
     "output_type": "execute_result"
    }
   ],
   "source": [
    "np.sqrt(comparison[[\"fnlwgt_orig\",\"fnlwgt_MCAR\", \"fnlwgt_mean.imp\", 'fnlwgt_mle.imp']].var())"
   ]
  },
  {
   "cell_type": "markdown",
   "metadata": {},
   "source": [
    "### MEDIAN SUBSTITUTION"
   ]
  },
  {
   "cell_type": "code",
   "execution_count": 23,
   "metadata": {},
   "outputs": [
    {
     "data": {
      "text/plain": [
       "SimpleImputer(strategy='median')"
      ]
     },
     "execution_count": 23,
     "metadata": {},
     "output_type": "execute_result"
    }
   ],
   "source": [
    "#Median Imputer\n",
    "imp = SimpleImputer(missing_values=np.nan, strategy='median')\n",
    "imp.fit(X)"
   ]
  },
  {
   "cell_type": "code",
   "execution_count": 24,
   "metadata": {},
   "outputs": [
    {
     "data": {
      "text/html": [
       "<div>\n",
       "<style scoped>\n",
       "    .dataframe tbody tr th:only-of-type {\n",
       "        vertical-align: middle;\n",
       "    }\n",
       "\n",
       "    .dataframe tbody tr th {\n",
       "        vertical-align: top;\n",
       "    }\n",
       "\n",
       "    .dataframe thead th {\n",
       "        text-align: right;\n",
       "    }\n",
       "</style>\n",
       "<table border=\"1\" class=\"dataframe\">\n",
       "  <thead>\n",
       "    <tr style=\"text-align: right;\">\n",
       "      <th></th>\n",
       "      <th>fnlwgt_orig</th>\n",
       "      <th>fnlwgt_MCAR</th>\n",
       "      <th>fnlwgt_mean.imp</th>\n",
       "      <th>fnlwgt_mle.imp</th>\n",
       "      <th>fnlwgt_median.imp</th>\n",
       "    </tr>\n",
       "  </thead>\n",
       "  <tbody>\n",
       "    <tr>\n",
       "      <th>0</th>\n",
       "      <td>226802</td>\n",
       "      <td>NaN</td>\n",
       "      <td>189474.231302</td>\n",
       "      <td>189474.226182</td>\n",
       "      <td>177907.0</td>\n",
       "    </tr>\n",
       "    <tr>\n",
       "      <th>23</th>\n",
       "      <td>220931</td>\n",
       "      <td>NaN</td>\n",
       "      <td>189474.231302</td>\n",
       "      <td>189474.226182</td>\n",
       "      <td>177907.0</td>\n",
       "    </tr>\n",
       "    <tr>\n",
       "      <th>31</th>\n",
       "      <td>186651</td>\n",
       "      <td>NaN</td>\n",
       "      <td>189474.231302</td>\n",
       "      <td>189474.226182</td>\n",
       "      <td>177907.0</td>\n",
       "    </tr>\n",
       "    <tr>\n",
       "      <th>44</th>\n",
       "      <td>138371</td>\n",
       "      <td>NaN</td>\n",
       "      <td>189474.231302</td>\n",
       "      <td>189474.226182</td>\n",
       "      <td>177907.0</td>\n",
       "    </tr>\n",
       "    <tr>\n",
       "      <th>45</th>\n",
       "      <td>242832</td>\n",
       "      <td>NaN</td>\n",
       "      <td>189474.231302</td>\n",
       "      <td>189474.226182</td>\n",
       "      <td>177907.0</td>\n",
       "    </tr>\n",
       "    <tr>\n",
       "      <th>...</th>\n",
       "      <td>...</td>\n",
       "      <td>...</td>\n",
       "      <td>...</td>\n",
       "      <td>...</td>\n",
       "      <td>...</td>\n",
       "    </tr>\n",
       "    <tr>\n",
       "      <th>48804</th>\n",
       "      <td>77266</td>\n",
       "      <td>NaN</td>\n",
       "      <td>189474.231302</td>\n",
       "      <td>189474.226182</td>\n",
       "      <td>177907.0</td>\n",
       "    </tr>\n",
       "    <tr>\n",
       "      <th>48805</th>\n",
       "      <td>191648</td>\n",
       "      <td>NaN</td>\n",
       "      <td>189474.231302</td>\n",
       "      <td>189474.226182</td>\n",
       "      <td>177907.0</td>\n",
       "    </tr>\n",
       "    <tr>\n",
       "      <th>48817</th>\n",
       "      <td>160216</td>\n",
       "      <td>NaN</td>\n",
       "      <td>189474.231302</td>\n",
       "      <td>189474.226182</td>\n",
       "      <td>177907.0</td>\n",
       "    </tr>\n",
       "    <tr>\n",
       "      <th>48828</th>\n",
       "      <td>260761</td>\n",
       "      <td>NaN</td>\n",
       "      <td>189474.231302</td>\n",
       "      <td>189474.226182</td>\n",
       "      <td>177907.0</td>\n",
       "    </tr>\n",
       "    <tr>\n",
       "      <th>48833</th>\n",
       "      <td>84661</td>\n",
       "      <td>NaN</td>\n",
       "      <td>189474.231302</td>\n",
       "      <td>189474.226182</td>\n",
       "      <td>177907.0</td>\n",
       "    </tr>\n",
       "  </tbody>\n",
       "</table>\n",
       "<p>7433 rows × 5 columns</p>\n",
       "</div>"
      ],
      "text/plain": [
       "       fnlwgt_orig  fnlwgt_MCAR  fnlwgt_mean.imp  fnlwgt_mle.imp  \\\n",
       "0           226802          NaN    189474.231302   189474.226182   \n",
       "23          220931          NaN    189474.231302   189474.226182   \n",
       "31          186651          NaN    189474.231302   189474.226182   \n",
       "44          138371          NaN    189474.231302   189474.226182   \n",
       "45          242832          NaN    189474.231302   189474.226182   \n",
       "...            ...          ...              ...             ...   \n",
       "48804        77266          NaN    189474.231302   189474.226182   \n",
       "48805       191648          NaN    189474.231302   189474.226182   \n",
       "48817       160216          NaN    189474.231302   189474.226182   \n",
       "48828       260761          NaN    189474.231302   189474.226182   \n",
       "48833        84661          NaN    189474.231302   189474.226182   \n",
       "\n",
       "       fnlwgt_median.imp  \n",
       "0               177907.0  \n",
       "23              177907.0  \n",
       "31              177907.0  \n",
       "44              177907.0  \n",
       "45              177907.0  \n",
       "...                  ...  \n",
       "48804           177907.0  \n",
       "48805           177907.0  \n",
       "48817           177907.0  \n",
       "48828           177907.0  \n",
       "48833           177907.0  \n",
       "\n",
       "[7433 rows x 5 columns]"
      ]
     },
     "execution_count": 24,
     "metadata": {},
     "output_type": "execute_result"
    }
   ],
   "source": [
    "median_imputed = pd.DataFrame(imp.transform(X), columns=['age_median.imp', 'fnlwgt_median.imp'])\n",
    "comparison = pd.concat([comparison, median_imputed], axis=1)\n",
    "\n",
    "#View the comparison across dataset\n",
    "comparison.loc[fnlwgt_missing,[\"fnlwgt_orig\",\"fnlwgt_MCAR\", \"fnlwgt_mean.imp\", 'fnlwgt_mle.imp',\"fnlwgt_median.imp\" ]]"
   ]
  },
  {
   "cell_type": "markdown",
   "metadata": {},
   "source": [
    "### ZERO IMPUTATIONS"
   ]
  },
  {
   "cell_type": "markdown",
   "metadata": {},
   "source": [
    "For some types of studies, it is more natural to impute zero ('0') for missing variables. Zero may make sense particularly for variables that are social in nature such as \"withdrawal of interest\"  or for people who failed to show up during exams where naturally they virtually got a score of 0 anyway.\n",
    "\n",
    "Of course, it is only possible for variables where 0 is a valid value, so this is not possible for the age variable where participants are not really newborns."
   ]
  },
  {
   "cell_type": "markdown",
   "metadata": {},
   "source": [
    "## RANDOM REPLACEMENT VALUES"
   ]
  },
  {
   "cell_type": "markdown",
   "metadata": {},
   "source": [
    "As opposed to constant value replacement methods, random replacement methods replace missing data with randomly generated values. \n",
    "\n",
    "There are two general ways of accomplishing this:\n",
    "\n",
    "1.  Using empirical data - If you are familiar with bootstrap methods, then you can view this as similar to that. This means that data that is used to replace missing values comes from the available data within the dataset itself.\n",
    "2.  Using statistical distributions - Since we may have knowledge of the particular distribution of a variable, we can draw samples from the theoretical/statistical distributions. For this, we can substitute our ML estimates for the parameters as ML estimates are considered robust.\n",
    "\n",
    "Let's try to discuss some of the empirical random replacement methods."
   ]
  },
  {
   "cell_type": "markdown",
   "metadata": {},
   "source": [
    "### HOT-DECK METHOD"
   ]
  },
  {
   "cell_type": "markdown",
   "metadata": {},
   "source": [
    "Hot-deck methods refer to methods that replace the missing values with a randomly selected value from the current dataset on hand. This is contrasted to cold-deck methods where you may have a separate dataset to randomly draw values from.\n",
    "\n",
    "For example, for our adult dataset, if a person has forgotten to report his/her age, this method would pick a random value from those that have reported their age."
   ]
  },
  {
   "cell_type": "code",
   "execution_count": 25,
   "metadata": {
    "scrolled": true
   },
   "outputs": [
    {
     "data": {
      "text/plain": [
       "0        101709.0\n",
       "23       169905.0\n",
       "31       360689.0\n",
       "44       140456.0\n",
       "45       107991.0\n",
       "           ...   \n",
       "48804    195516.0\n",
       "48805    109097.0\n",
       "48817     89564.0\n",
       "48828    375313.0\n",
       "48833    104329.0\n",
       "Name: fnlwgt, Length: 7433, dtype: float64"
      ]
     },
     "execution_count": 25,
     "metadata": {},
     "output_type": "execute_result"
    }
   ],
   "source": [
    "random.seed(25)\n",
    "df4 = df.copy()\n",
    "\n",
    "#For Age\n",
    "df4.loc[:,'age'] = [random.choice(df4['age'].dropna()) if np.isnan(i) else i for i in df4['age']]\n",
    "\n",
    "#For Weight\n",
    "df4.loc[:,'fnlwgt'] = [random.choice(df4['fnlwgt'].dropna()) if np.isnan(i) else i for i in df4['fnlwgt']]\n",
    "\n",
    "df4.loc[fnlwgt_missing,'fnlwgt']\n"
   ]
  },
  {
   "cell_type": "code",
   "execution_count": 26,
   "metadata": {
    "scrolled": false
   },
   "outputs": [
    {
     "data": {
      "text/html": [
       "<div>\n",
       "<style scoped>\n",
       "    .dataframe tbody tr th:only-of-type {\n",
       "        vertical-align: middle;\n",
       "    }\n",
       "\n",
       "    .dataframe tbody tr th {\n",
       "        vertical-align: top;\n",
       "    }\n",
       "\n",
       "    .dataframe thead th {\n",
       "        text-align: right;\n",
       "    }\n",
       "</style>\n",
       "<table border=\"1\" class=\"dataframe\">\n",
       "  <thead>\n",
       "    <tr style=\"text-align: right;\">\n",
       "      <th></th>\n",
       "      <th>fnlwgt_orig</th>\n",
       "      <th>fnlwgt_MCAR</th>\n",
       "      <th>fnlwgt_mean.imp</th>\n",
       "      <th>fnlwgt_mle.imp</th>\n",
       "      <th>fnlwgt_median.imp</th>\n",
       "      <th>fnlwgt_hdeck.imp</th>\n",
       "    </tr>\n",
       "  </thead>\n",
       "  <tbody>\n",
       "    <tr>\n",
       "      <th>0</th>\n",
       "      <td>226802</td>\n",
       "      <td>NaN</td>\n",
       "      <td>189474.231302</td>\n",
       "      <td>189474.226182</td>\n",
       "      <td>177907.0</td>\n",
       "      <td>101709.0</td>\n",
       "    </tr>\n",
       "    <tr>\n",
       "      <th>23</th>\n",
       "      <td>220931</td>\n",
       "      <td>NaN</td>\n",
       "      <td>189474.231302</td>\n",
       "      <td>189474.226182</td>\n",
       "      <td>177907.0</td>\n",
       "      <td>169905.0</td>\n",
       "    </tr>\n",
       "    <tr>\n",
       "      <th>31</th>\n",
       "      <td>186651</td>\n",
       "      <td>NaN</td>\n",
       "      <td>189474.231302</td>\n",
       "      <td>189474.226182</td>\n",
       "      <td>177907.0</td>\n",
       "      <td>360689.0</td>\n",
       "    </tr>\n",
       "    <tr>\n",
       "      <th>44</th>\n",
       "      <td>138371</td>\n",
       "      <td>NaN</td>\n",
       "      <td>189474.231302</td>\n",
       "      <td>189474.226182</td>\n",
       "      <td>177907.0</td>\n",
       "      <td>140456.0</td>\n",
       "    </tr>\n",
       "    <tr>\n",
       "      <th>45</th>\n",
       "      <td>242832</td>\n",
       "      <td>NaN</td>\n",
       "      <td>189474.231302</td>\n",
       "      <td>189474.226182</td>\n",
       "      <td>177907.0</td>\n",
       "      <td>107991.0</td>\n",
       "    </tr>\n",
       "    <tr>\n",
       "      <th>...</th>\n",
       "      <td>...</td>\n",
       "      <td>...</td>\n",
       "      <td>...</td>\n",
       "      <td>...</td>\n",
       "      <td>...</td>\n",
       "      <td>...</td>\n",
       "    </tr>\n",
       "    <tr>\n",
       "      <th>48804</th>\n",
       "      <td>77266</td>\n",
       "      <td>NaN</td>\n",
       "      <td>189474.231302</td>\n",
       "      <td>189474.226182</td>\n",
       "      <td>177907.0</td>\n",
       "      <td>195516.0</td>\n",
       "    </tr>\n",
       "    <tr>\n",
       "      <th>48805</th>\n",
       "      <td>191648</td>\n",
       "      <td>NaN</td>\n",
       "      <td>189474.231302</td>\n",
       "      <td>189474.226182</td>\n",
       "      <td>177907.0</td>\n",
       "      <td>109097.0</td>\n",
       "    </tr>\n",
       "    <tr>\n",
       "      <th>48817</th>\n",
       "      <td>160216</td>\n",
       "      <td>NaN</td>\n",
       "      <td>189474.231302</td>\n",
       "      <td>189474.226182</td>\n",
       "      <td>177907.0</td>\n",
       "      <td>89564.0</td>\n",
       "    </tr>\n",
       "    <tr>\n",
       "      <th>48828</th>\n",
       "      <td>260761</td>\n",
       "      <td>NaN</td>\n",
       "      <td>189474.231302</td>\n",
       "      <td>189474.226182</td>\n",
       "      <td>177907.0</td>\n",
       "      <td>375313.0</td>\n",
       "    </tr>\n",
       "    <tr>\n",
       "      <th>48833</th>\n",
       "      <td>84661</td>\n",
       "      <td>NaN</td>\n",
       "      <td>189474.231302</td>\n",
       "      <td>189474.226182</td>\n",
       "      <td>177907.0</td>\n",
       "      <td>104329.0</td>\n",
       "    </tr>\n",
       "  </tbody>\n",
       "</table>\n",
       "<p>7433 rows × 6 columns</p>\n",
       "</div>"
      ],
      "text/plain": [
       "       fnlwgt_orig  fnlwgt_MCAR  fnlwgt_mean.imp  fnlwgt_mle.imp  \\\n",
       "0           226802          NaN    189474.231302   189474.226182   \n",
       "23          220931          NaN    189474.231302   189474.226182   \n",
       "31          186651          NaN    189474.231302   189474.226182   \n",
       "44          138371          NaN    189474.231302   189474.226182   \n",
       "45          242832          NaN    189474.231302   189474.226182   \n",
       "...            ...          ...              ...             ...   \n",
       "48804        77266          NaN    189474.231302   189474.226182   \n",
       "48805       191648          NaN    189474.231302   189474.226182   \n",
       "48817       160216          NaN    189474.231302   189474.226182   \n",
       "48828       260761          NaN    189474.231302   189474.226182   \n",
       "48833        84661          NaN    189474.231302   189474.226182   \n",
       "\n",
       "       fnlwgt_median.imp  fnlwgt_hdeck.imp  \n",
       "0               177907.0          101709.0  \n",
       "23              177907.0          169905.0  \n",
       "31              177907.0          360689.0  \n",
       "44              177907.0          140456.0  \n",
       "45              177907.0          107991.0  \n",
       "...                  ...               ...  \n",
       "48804           177907.0          195516.0  \n",
       "48805           177907.0          109097.0  \n",
       "48817           177907.0           89564.0  \n",
       "48828           177907.0          375313.0  \n",
       "48833           177907.0          104329.0  \n",
       "\n",
       "[7433 rows x 6 columns]"
      ]
     },
     "execution_count": 26,
     "metadata": {},
     "output_type": "execute_result"
    }
   ],
   "source": [
    "cols = comparison.columns.to_list()\n",
    "\n",
    "comparison = pd.concat([comparison, df4[['age', 'fnlwgt']]], axis=1)\n",
    "\n",
    "comparison.columns =  [*cols,'age_hdeck.imp', 'fnlwgt_hdeck.imp']\n",
    "#View the comparison across dataset\n",
    "comparison.loc[fnlwgt_missing,[\"fnlwgt_orig\",\"fnlwgt_MCAR\", \"fnlwgt_mean.imp\", 'fnlwgt_mle.imp',\"fnlwgt_median.imp\",'fnlwgt_hdeck.imp' ]]"
   ]
  },
  {
   "cell_type": "code",
   "execution_count": 27,
   "metadata": {},
   "outputs": [
    {
     "data": {
      "text/plain": [
       "fnlwgt_orig         189664.134597\n",
       "fnlwgt_MCAR         189474.231302\n",
       "fnlwgt_mean.imp     189474.231302\n",
       "fnlwgt_mle.imp      189474.230523\n",
       "fnlwgt_hdeck.imp    189761.082552\n",
       "dtype: float64"
      ]
     },
     "execution_count": 27,
     "metadata": {},
     "output_type": "execute_result"
    }
   ],
   "source": [
    "#Mean Comparisons\n",
    "comparison[[\"fnlwgt_orig\",\"fnlwgt_MCAR\", \"fnlwgt_mean.imp\", 'fnlwgt_mle.imp', 'fnlwgt_hdeck.imp']].mean()"
   ]
  },
  {
   "cell_type": "code",
   "execution_count": 28,
   "metadata": {},
   "outputs": [
    {
     "data": {
      "text/plain": [
       "fnlwgt_orig         105604.025423\n",
       "fnlwgt_MCAR         105392.105559\n",
       "fnlwgt_mean.imp      97041.596928\n",
       "fnlwgt_mle.imp       97041.596928\n",
       "fnlwgt_hdeck.imp    105647.817389\n",
       "dtype: float64"
      ]
     },
     "execution_count": 28,
     "metadata": {},
     "output_type": "execute_result"
    }
   ],
   "source": [
    "#Standard Deviation\n",
    "np.sqrt(comparison[[\"fnlwgt_orig\",\"fnlwgt_MCAR\", \"fnlwgt_mean.imp\", 'fnlwgt_mle.imp', 'fnlwgt_hdeck.imp']].var())"
   ]
  },
  {
   "cell_type": "markdown",
   "metadata": {},
   "source": [
    "### COLD DECK METHODS"
   ]
  },
  {
   "cell_type": "markdown",
   "metadata": {},
   "source": [
    "It may be possible to draw in a replacement value from a separate dataset that is similar to the one with missing values.\n",
    "\n",
    "For example, you may want to study about two groups of people where the population is homogenous but you simply happened to divide these into two groups(e.g. a Monday group and Tuesday group). If you have missing values for the Tuesday group, say for age, under the premise that both groups are homogenous and randomly assigned, then its possible to fill-in the missing for age using a randomly chosen value for age coming from the Monday group.\n",
    "\n",
    "A cold deck can be implemented using two subgroups of training dataset, as well, as what we do with validation. Be careful not to use data from your test dataset to avoid data leakage."
   ]
  },
  {
   "cell_type": "markdown",
   "metadata": {},
   "source": [
    "### NON-RANDOM REPLACEMENT: ONE CONDITIONS"
   ]
  },
  {
   "cell_type": "code",
   "execution_count": 29,
   "metadata": {},
   "outputs": [],
   "source": [
    "df5 = df.copy()\n",
    "\n",
    "#Accomplish Using Transform Method\n",
    "df5[\"age\"] = df5['age'].fillna(df.groupby('workclass')['age'].transform('mean'))\n",
    "df5[\"fnlwgt\"] = df5['fnlwgt'].fillna(df.groupby('workclass')['fnlwgt'].transform('mean'))"
   ]
  },
  {
   "cell_type": "code",
   "execution_count": 30,
   "metadata": {},
   "outputs": [
    {
     "data": {
      "text/html": [
       "<div>\n",
       "<style scoped>\n",
       "    .dataframe tbody tr th:only-of-type {\n",
       "        vertical-align: middle;\n",
       "    }\n",
       "\n",
       "    .dataframe tbody tr th {\n",
       "        vertical-align: top;\n",
       "    }\n",
       "\n",
       "    .dataframe thead th {\n",
       "        text-align: right;\n",
       "    }\n",
       "</style>\n",
       "<table border=\"1\" class=\"dataframe\">\n",
       "  <thead>\n",
       "    <tr style=\"text-align: right;\">\n",
       "      <th></th>\n",
       "      <th>fnlwgt_orig</th>\n",
       "      <th>fnlwgt_MCAR</th>\n",
       "      <th>fnlwgt_mean.imp</th>\n",
       "      <th>fnlwgt_mle.imp</th>\n",
       "      <th>fnlwgt_median.imp</th>\n",
       "      <th>fnlwgt_hdeck.imp</th>\n",
       "      <th>fnlwgt_grpmean.imp</th>\n",
       "    </tr>\n",
       "  </thead>\n",
       "  <tbody>\n",
       "    <tr>\n",
       "      <th>0</th>\n",
       "      <td>226802</td>\n",
       "      <td>NaN</td>\n",
       "      <td>189474.231302</td>\n",
       "      <td>189474.226182</td>\n",
       "      <td>177907.0</td>\n",
       "      <td>101709.0</td>\n",
       "      <td>192481.177488</td>\n",
       "    </tr>\n",
       "    <tr>\n",
       "      <th>23</th>\n",
       "      <td>220931</td>\n",
       "      <td>NaN</td>\n",
       "      <td>189474.231302</td>\n",
       "      <td>189474.226182</td>\n",
       "      <td>177907.0</td>\n",
       "      <td>169905.0</td>\n",
       "      <td>192481.177488</td>\n",
       "    </tr>\n",
       "    <tr>\n",
       "      <th>31</th>\n",
       "      <td>186651</td>\n",
       "      <td>NaN</td>\n",
       "      <td>189474.231302</td>\n",
       "      <td>189474.226182</td>\n",
       "      <td>177907.0</td>\n",
       "      <td>360689.0</td>\n",
       "      <td>175027.095516</td>\n",
       "    </tr>\n",
       "    <tr>\n",
       "      <th>44</th>\n",
       "      <td>138371</td>\n",
       "      <td>NaN</td>\n",
       "      <td>189474.231302</td>\n",
       "      <td>189474.226182</td>\n",
       "      <td>177907.0</td>\n",
       "      <td>140456.0</td>\n",
       "      <td>179941.352906</td>\n",
       "    </tr>\n",
       "    <tr>\n",
       "      <th>45</th>\n",
       "      <td>242832</td>\n",
       "      <td>NaN</td>\n",
       "      <td>189474.231302</td>\n",
       "      <td>189474.226182</td>\n",
       "      <td>177907.0</td>\n",
       "      <td>107991.0</td>\n",
       "      <td>192481.177488</td>\n",
       "    </tr>\n",
       "    <tr>\n",
       "      <th>...</th>\n",
       "      <td>...</td>\n",
       "      <td>...</td>\n",
       "      <td>...</td>\n",
       "      <td>...</td>\n",
       "      <td>...</td>\n",
       "      <td>...</td>\n",
       "      <td>...</td>\n",
       "    </tr>\n",
       "    <tr>\n",
       "      <th>48804</th>\n",
       "      <td>77266</td>\n",
       "      <td>NaN</td>\n",
       "      <td>189474.231302</td>\n",
       "      <td>189474.226182</td>\n",
       "      <td>177907.0</td>\n",
       "      <td>195516.0</td>\n",
       "      <td>192481.177488</td>\n",
       "    </tr>\n",
       "    <tr>\n",
       "      <th>48805</th>\n",
       "      <td>191648</td>\n",
       "      <td>NaN</td>\n",
       "      <td>189474.231302</td>\n",
       "      <td>189474.226182</td>\n",
       "      <td>177907.0</td>\n",
       "      <td>109097.0</td>\n",
       "      <td>192481.177488</td>\n",
       "    </tr>\n",
       "    <tr>\n",
       "      <th>48817</th>\n",
       "      <td>160216</td>\n",
       "      <td>NaN</td>\n",
       "      <td>189474.231302</td>\n",
       "      <td>189474.226182</td>\n",
       "      <td>177907.0</td>\n",
       "      <td>89564.0</td>\n",
       "      <td>192481.177488</td>\n",
       "    </tr>\n",
       "    <tr>\n",
       "      <th>48828</th>\n",
       "      <td>260761</td>\n",
       "      <td>NaN</td>\n",
       "      <td>189474.231302</td>\n",
       "      <td>189474.226182</td>\n",
       "      <td>177907.0</td>\n",
       "      <td>375313.0</td>\n",
       "      <td>192481.177488</td>\n",
       "    </tr>\n",
       "    <tr>\n",
       "      <th>48833</th>\n",
       "      <td>84661</td>\n",
       "      <td>NaN</td>\n",
       "      <td>189474.231302</td>\n",
       "      <td>189474.226182</td>\n",
       "      <td>177907.0</td>\n",
       "      <td>104329.0</td>\n",
       "      <td>192481.177488</td>\n",
       "    </tr>\n",
       "  </tbody>\n",
       "</table>\n",
       "<p>7433 rows × 7 columns</p>\n",
       "</div>"
      ],
      "text/plain": [
       "       fnlwgt_orig  fnlwgt_MCAR  fnlwgt_mean.imp  fnlwgt_mle.imp  \\\n",
       "0           226802          NaN    189474.231302   189474.226182   \n",
       "23          220931          NaN    189474.231302   189474.226182   \n",
       "31          186651          NaN    189474.231302   189474.226182   \n",
       "44          138371          NaN    189474.231302   189474.226182   \n",
       "45          242832          NaN    189474.231302   189474.226182   \n",
       "...            ...          ...              ...             ...   \n",
       "48804        77266          NaN    189474.231302   189474.226182   \n",
       "48805       191648          NaN    189474.231302   189474.226182   \n",
       "48817       160216          NaN    189474.231302   189474.226182   \n",
       "48828       260761          NaN    189474.231302   189474.226182   \n",
       "48833        84661          NaN    189474.231302   189474.226182   \n",
       "\n",
       "       fnlwgt_median.imp  fnlwgt_hdeck.imp  fnlwgt_grpmean.imp  \n",
       "0               177907.0          101709.0       192481.177488  \n",
       "23              177907.0          169905.0       192481.177488  \n",
       "31              177907.0          360689.0       175027.095516  \n",
       "44              177907.0          140456.0       179941.352906  \n",
       "45              177907.0          107991.0       192481.177488  \n",
       "...                  ...               ...                 ...  \n",
       "48804           177907.0          195516.0       192481.177488  \n",
       "48805           177907.0          109097.0       192481.177488  \n",
       "48817           177907.0           89564.0       192481.177488  \n",
       "48828           177907.0          375313.0       192481.177488  \n",
       "48833           177907.0          104329.0       192481.177488  \n",
       "\n",
       "[7433 rows x 7 columns]"
      ]
     },
     "execution_count": 30,
     "metadata": {},
     "output_type": "execute_result"
    }
   ],
   "source": [
    "cols = comparison.columns.to_list()\n",
    "\n",
    "comparison = pd.concat([comparison, df5[['age', 'fnlwgt']]], axis=1)\n",
    "\n",
    "comparison.columns =  [*cols,'age_grpmean.imp', 'fnlwgt_grpmean.imp']\n",
    "#View the comparison across dataset\n",
    "comparison.loc[fnlwgt_missing,[\"fnlwgt_orig\",\"fnlwgt_MCAR\", \n",
    "                               \"fnlwgt_mean.imp\", 'fnlwgt_mle.imp',\n",
    "                               \"fnlwgt_median.imp\",'fnlwgt_hdeck.imp',\n",
    "                              'fnlwgt_grpmean.imp']]"
   ]
  },
  {
   "cell_type": "code",
   "execution_count": 31,
   "metadata": {},
   "outputs": [
    {
     "data": {
      "text/plain": [
       "fnlwgt_orig           189664.134597\n",
       "fnlwgt_MCAR           189474.231302\n",
       "fnlwgt_mean.imp       189474.231302\n",
       "fnlwgt_mle.imp        189474.230523\n",
       "fnlwgt_grpmean.imp    189482.381617\n",
       "dtype: float64"
      ]
     },
     "execution_count": 31,
     "metadata": {},
     "output_type": "execute_result"
    }
   ],
   "source": [
    "#Mean Comparisons\n",
    "comparison[[\"fnlwgt_orig\",\"fnlwgt_MCAR\", \"fnlwgt_mean.imp\", 'fnlwgt_mle.imp', 'fnlwgt_grpmean.imp' ]].mean()"
   ]
  },
  {
   "cell_type": "code",
   "execution_count": 32,
   "metadata": {},
   "outputs": [
    {
     "data": {
      "text/plain": [
       "fnlwgt_orig           105604.025423\n",
       "fnlwgt_MCAR           105392.105559\n",
       "fnlwgt_mean.imp        97041.596928\n",
       "fnlwgt_mle.imp         97041.596928\n",
       "fnlwgt_hdeck.imp      105647.817389\n",
       "fnlwgt_grpmean.imp     97459.655505\n",
       "dtype: float64"
      ]
     },
     "execution_count": 32,
     "metadata": {},
     "output_type": "execute_result"
    }
   ],
   "source": [
    "#Standard Deviation\n",
    "np.sqrt(comparison[[\"fnlwgt_orig\",\"fnlwgt_MCAR\", \"fnlwgt_mean.imp\", 'fnlwgt_mle.imp', 'fnlwgt_hdeck.imp','fnlwgt_grpmean.imp' ]].var())"
   ]
  },
  {
   "cell_type": "markdown",
   "metadata": {},
   "source": [
    "### LAST OBSERVATION CARRIED FORWARD (LOCV)"
   ]
  },
  {
   "cell_type": "markdown",
   "metadata": {},
   "source": [
    "For some time-series data, a primary reason for missing data is that of 'attrition'. For example, suppose you are studying the effect of weight-loss programs for a specific person. If you see continuous improvement until the last observation, then the first missing observation can be assumed to be around the same value as the last one. Attrition here happened because that person has achieved his/her ideal weight."
   ]
  },
  {
   "cell_type": "markdown",
   "metadata": {},
   "source": [
    "If you apply this method to a non-time series dataset, then this is considered a \"hot deck\" method as it uses actual observations from your dataset. Caution, however, should be exercised as this may not be entirely appropriate for a lot of cases as it has been proven to bias parameter estimates and increase Type 1 errors."
   ]
  },
  {
   "cell_type": "code",
   "execution_count": 33,
   "metadata": {
    "scrolled": true
   },
   "outputs": [],
   "source": [
    "#df['variable'].fillna(method='ffill')\n",
    "\n",
    "#Another implementation\n",
    "#df['age'] = df.groupby(['workclass'])['age'].ffill()"
   ]
  },
  {
   "cell_type": "markdown",
   "metadata": {},
   "source": [
    "### NEXT OBSERVATION CARRIED BACKWARD (NOCB)"
   ]
  },
  {
   "cell_type": "markdown",
   "metadata": {},
   "source": [
    "Similar in spirt to LOCF, \"Next Observation Carried Forward (NOCB)\" carries subsequent values but instead of forward, it does so backwards. If you have ever heard of the term \"backfill\", this is essentially that process.\n",
    "\n",
    "If you think about it, there are a lot of cases where this is employed. Say for example that you are salary progression of different test subjects. If you know for a fact that companies did not give a raise for a particular year (for example, during the COVID-pandemic), then you can backfill past years with current year's salary."
   ]
  },
  {
   "cell_type": "code",
   "execution_count": 34,
   "metadata": {},
   "outputs": [],
   "source": [
    "#df['variable'].fillna(method='backfill')\n",
    "\n",
    "#Another implementation but combined with groupmeans method\n",
    "#df['age'] = df.groupby(['workclass'])['age'].ffill()"
   ]
  },
  {
   "cell_type": "code",
   "execution_count": 35,
   "metadata": {},
   "outputs": [],
   "source": [
    "df6 = df.copy()\n",
    "\n",
    "df6[['age', 'fnlwgt']]= df6[['age', 'fnlwgt']] = df6[['age', 'fnlwgt']].fillna(df6[['age', 'fnlwgt']].rolling(3,min_periods=0).mean())"
   ]
  },
  {
   "cell_type": "code",
   "execution_count": 36,
   "metadata": {},
   "outputs": [
    {
     "data": {
      "text/html": [
       "<div>\n",
       "<style scoped>\n",
       "    .dataframe tbody tr th:only-of-type {\n",
       "        vertical-align: middle;\n",
       "    }\n",
       "\n",
       "    .dataframe tbody tr th {\n",
       "        vertical-align: top;\n",
       "    }\n",
       "\n",
       "    .dataframe thead th {\n",
       "        text-align: right;\n",
       "    }\n",
       "</style>\n",
       "<table border=\"1\" class=\"dataframe\">\n",
       "  <thead>\n",
       "    <tr style=\"text-align: right;\">\n",
       "      <th></th>\n",
       "      <th>age</th>\n",
       "      <th>fnlwgt</th>\n",
       "    </tr>\n",
       "  </thead>\n",
       "  <tbody>\n",
       "    <tr>\n",
       "      <th>10</th>\n",
       "      <td>39.5</td>\n",
       "      <td>184454.0</td>\n",
       "    </tr>\n",
       "    <tr>\n",
       "      <th>43</th>\n",
       "      <td>40.0</td>\n",
       "      <td>103634.0</td>\n",
       "    </tr>\n",
       "    <tr>\n",
       "      <th>49</th>\n",
       "      <td>53.0</td>\n",
       "      <td>131916.0</td>\n",
       "    </tr>\n",
       "    <tr>\n",
       "      <th>57</th>\n",
       "      <td>42.0</td>\n",
       "      <td>382078.0</td>\n",
       "    </tr>\n",
       "    <tr>\n",
       "      <th>79</th>\n",
       "      <td>59.5</td>\n",
       "      <td>72055.0</td>\n",
       "    </tr>\n",
       "    <tr>\n",
       "      <th>...</th>\n",
       "      <td>...</td>\n",
       "      <td>...</td>\n",
       "    </tr>\n",
       "    <tr>\n",
       "      <th>48733</th>\n",
       "      <td>38.0</td>\n",
       "      <td>236318.0</td>\n",
       "    </tr>\n",
       "    <tr>\n",
       "      <th>48756</th>\n",
       "      <td>38.5</td>\n",
       "      <td>67234.0</td>\n",
       "    </tr>\n",
       "    <tr>\n",
       "      <th>48764</th>\n",
       "      <td>42.0</td>\n",
       "      <td>155382.0</td>\n",
       "    </tr>\n",
       "    <tr>\n",
       "      <th>48786</th>\n",
       "      <td>48.5</td>\n",
       "      <td>182401.0</td>\n",
       "    </tr>\n",
       "    <tr>\n",
       "      <th>48832</th>\n",
       "      <td>43.0</td>\n",
       "      <td>34066.0</td>\n",
       "    </tr>\n",
       "  </tbody>\n",
       "</table>\n",
       "<p>4949 rows × 2 columns</p>\n",
       "</div>"
      ],
      "text/plain": [
       "        age    fnlwgt\n",
       "10     39.5  184454.0\n",
       "43     40.0  103634.0\n",
       "49     53.0  131916.0\n",
       "57     42.0  382078.0\n",
       "79     59.5   72055.0\n",
       "...     ...       ...\n",
       "48733  38.0  236318.0\n",
       "48756  38.5   67234.0\n",
       "48764  42.0  155382.0\n",
       "48786  48.5  182401.0\n",
       "48832  43.0   34066.0\n",
       "\n",
       "[4949 rows x 2 columns]"
      ]
     },
     "execution_count": 36,
     "metadata": {},
     "output_type": "execute_result"
    }
   ],
   "source": [
    "df6.loc[age_missing,['age', 'fnlwgt']]"
   ]
  },
  {
   "cell_type": "code",
   "execution_count": 37,
   "metadata": {},
   "outputs": [
    {
     "data": {
      "text/html": [
       "<div>\n",
       "<style scoped>\n",
       "    .dataframe tbody tr th:only-of-type {\n",
       "        vertical-align: middle;\n",
       "    }\n",
       "\n",
       "    .dataframe tbody tr th {\n",
       "        vertical-align: top;\n",
       "    }\n",
       "\n",
       "    .dataframe thead th {\n",
       "        text-align: right;\n",
       "    }\n",
       "</style>\n",
       "<table border=\"1\" class=\"dataframe\">\n",
       "  <thead>\n",
       "    <tr style=\"text-align: right;\">\n",
       "      <th></th>\n",
       "      <th>age</th>\n",
       "      <th>fnlwgt</th>\n",
       "    </tr>\n",
       "  </thead>\n",
       "  <tbody>\n",
       "    <tr>\n",
       "      <th>10</th>\n",
       "      <td>31.0</td>\n",
       "      <td>159670.000000</td>\n",
       "    </tr>\n",
       "    <tr>\n",
       "      <th>43</th>\n",
       "      <td>24.0</td>\n",
       "      <td>103634.000000</td>\n",
       "    </tr>\n",
       "    <tr>\n",
       "      <th>49</th>\n",
       "      <td>28.5</td>\n",
       "      <td>155523.666667</td>\n",
       "    </tr>\n",
       "    <tr>\n",
       "      <th>57</th>\n",
       "      <td>37.5</td>\n",
       "      <td>274168.000000</td>\n",
       "    </tr>\n",
       "    <tr>\n",
       "      <th>79</th>\n",
       "      <td>34.0</td>\n",
       "      <td>69528.000000</td>\n",
       "    </tr>\n",
       "    <tr>\n",
       "      <th>...</th>\n",
       "      <td>...</td>\n",
       "      <td>...</td>\n",
       "    </tr>\n",
       "    <tr>\n",
       "      <th>48733</th>\n",
       "      <td>48.0</td>\n",
       "      <td>247125.500000</td>\n",
       "    </tr>\n",
       "    <tr>\n",
       "      <th>48756</th>\n",
       "      <td>42.0</td>\n",
       "      <td>70851.666667</td>\n",
       "    </tr>\n",
       "    <tr>\n",
       "      <th>48764</th>\n",
       "      <td>38.0</td>\n",
       "      <td>179150.666667</td>\n",
       "    </tr>\n",
       "    <tr>\n",
       "      <th>48786</th>\n",
       "      <td>44.0</td>\n",
       "      <td>242386.500000</td>\n",
       "    </tr>\n",
       "    <tr>\n",
       "      <th>48832</th>\n",
       "      <td>37.5</td>\n",
       "      <td>75102.000000</td>\n",
       "    </tr>\n",
       "  </tbody>\n",
       "</table>\n",
       "<p>4949 rows × 2 columns</p>\n",
       "</div>"
      ],
      "text/plain": [
       "        age         fnlwgt\n",
       "10     31.0  159670.000000\n",
       "43     24.0  103634.000000\n",
       "49     28.5  155523.666667\n",
       "57     37.5  274168.000000\n",
       "79     34.0   69528.000000\n",
       "...     ...            ...\n",
       "48733  48.0  247125.500000\n",
       "48756  42.0   70851.666667\n",
       "48764  38.0  179150.666667\n",
       "48786  44.0  242386.500000\n",
       "48832  37.5   75102.000000\n",
       "\n",
       "[4949 rows x 2 columns]"
      ]
     },
     "execution_count": 37,
     "metadata": {},
     "output_type": "execute_result"
    }
   ],
   "source": [
    "df7 = df.copy()\n",
    "df7[['age', 'fnlwgt']] = df7[['age', 'fnlwgt']].iloc[::-1].rolling(3, min_periods=0).mean().iloc[::-1]\n",
    "df7.loc[age_missing,['age', 'fnlwgt']]"
   ]
  },
  {
   "cell_type": "markdown",
   "metadata": {},
   "source": [
    "### REGRESSION AND REGRESSION WITH ERROR"
   ]
  },
  {
   "cell_type": "markdown",
   "metadata": {},
   "source": [
    "Regression and Regression with error methods fill in the missing values for variables, by predicting it based on the other variables in the dataset.\n",
    "\n",
    "In a way, you can think of it as the missing value being the target variable in a linear regression model. Come to think of it, when you employ any supervised learning model, you are trying to predict or find an unobserved outcome. And missing data, are by themselves, unobserved outcomes.\n",
    "\n",
    "The predicted value can use all the other variables in the dataset or simply just a subset of it.\n",
    "We can craft a code that will do this from scratch but let us simply use an available package: autoimpute. After running pip install autoimpute on your terminal, we can run the following code:"
   ]
  },
  {
   "cell_type": "code",
   "execution_count": 38,
   "metadata": {},
   "outputs": [
    {
     "name": "stderr",
     "output_type": "stream",
     "text": [
      "WARNING (theano.configdefaults): g++ not available, if using conda: `conda install m2w64-toolchain`\n",
      "WARNING (theano.configdefaults): g++ not detected ! Theano will be unable to execute optimized C-implementations (for both CPU and GPU) and will default to Python implementations. Performance will be severely degraded. To remove this warning, set Theano flags cxx to an empty string.\n",
      "WARNING (theano.tensor.blas): Using NumPy C-API based implementation for BLAS functions.\n"
     ]
    }
   ],
   "source": [
    "from autoimpute.imputations import SingleImputer, MultipleImputer"
   ]
  },
  {
   "cell_type": "code",
   "execution_count": 39,
   "metadata": {},
   "outputs": [],
   "source": [
    "df8 = df.copy()\n",
    "\n",
    "# create an instance of the single imputer and impute the data\n",
    "# with autoimpute, you can choose a strategy per category or variable \n",
    "si_dict = SingleImputer(strategy={\"age\":'least squares', \"fnlwgt\": 'least squares'})\n",
    "si_data_full = si_dict.fit_transform(df8[['age', 'fnlwgt']])"
   ]
  },
  {
   "cell_type": "code",
   "execution_count": 40,
   "metadata": {},
   "outputs": [
    {
     "data": {
      "text/html": [
       "<div>\n",
       "<style scoped>\n",
       "    .dataframe tbody tr th:only-of-type {\n",
       "        vertical-align: middle;\n",
       "    }\n",
       "\n",
       "    .dataframe tbody tr th {\n",
       "        vertical-align: top;\n",
       "    }\n",
       "\n",
       "    .dataframe thead th {\n",
       "        text-align: right;\n",
       "    }\n",
       "</style>\n",
       "<table border=\"1\" class=\"dataframe\">\n",
       "  <thead>\n",
       "    <tr style=\"text-align: right;\">\n",
       "      <th></th>\n",
       "      <th>age</th>\n",
       "      <th>fnlwgt</th>\n",
       "    </tr>\n",
       "  </thead>\n",
       "  <tbody>\n",
       "    <tr>\n",
       "      <th>0</th>\n",
       "      <td>25.0</td>\n",
       "      <td>197464.746914</td>\n",
       "    </tr>\n",
       "    <tr>\n",
       "      <th>1</th>\n",
       "      <td>38.0</td>\n",
       "      <td>89814.000000</td>\n",
       "    </tr>\n",
       "    <tr>\n",
       "      <th>2</th>\n",
       "      <td>28.0</td>\n",
       "      <td>336951.000000</td>\n",
       "    </tr>\n",
       "    <tr>\n",
       "      <th>3</th>\n",
       "      <td>44.0</td>\n",
       "      <td>160323.000000</td>\n",
       "    </tr>\n",
       "    <tr>\n",
       "      <th>4</th>\n",
       "      <td>18.0</td>\n",
       "      <td>103497.000000</td>\n",
       "    </tr>\n",
       "    <tr>\n",
       "      <th>...</th>\n",
       "      <td>...</td>\n",
       "      <td>...</td>\n",
       "    </tr>\n",
       "    <tr>\n",
       "      <th>48837</th>\n",
       "      <td>27.0</td>\n",
       "      <td>257302.000000</td>\n",
       "    </tr>\n",
       "    <tr>\n",
       "      <th>48838</th>\n",
       "      <td>40.0</td>\n",
       "      <td>154374.000000</td>\n",
       "    </tr>\n",
       "    <tr>\n",
       "      <th>48839</th>\n",
       "      <td>58.0</td>\n",
       "      <td>151910.000000</td>\n",
       "    </tr>\n",
       "    <tr>\n",
       "      <th>48840</th>\n",
       "      <td>22.0</td>\n",
       "      <td>201490.000000</td>\n",
       "    </tr>\n",
       "    <tr>\n",
       "      <th>48841</th>\n",
       "      <td>52.0</td>\n",
       "      <td>287927.000000</td>\n",
       "    </tr>\n",
       "  </tbody>\n",
       "</table>\n",
       "<p>48842 rows × 2 columns</p>\n",
       "</div>"
      ],
      "text/plain": [
       "        age         fnlwgt\n",
       "0      25.0  197464.746914\n",
       "1      38.0   89814.000000\n",
       "2      28.0  336951.000000\n",
       "3      44.0  160323.000000\n",
       "4      18.0  103497.000000\n",
       "...     ...            ...\n",
       "48837  27.0  257302.000000\n",
       "48838  40.0  154374.000000\n",
       "48839  58.0  151910.000000\n",
       "48840  22.0  201490.000000\n",
       "48841  52.0  287927.000000\n",
       "\n",
       "[48842 rows x 2 columns]"
      ]
     },
     "execution_count": 40,
     "metadata": {},
     "output_type": "execute_result"
    }
   ],
   "source": [
    "si_data_full"
   ]
  },
  {
   "cell_type": "markdown",
   "metadata": {},
   "source": [
    "In some cases, adding error to the regression prediction allows greater stochasticity which may improve the parameter estimation of the model, especially the variance. Unfortunately, this can't be accomplished through autoimpute but we can do so if the regression model is made from scratch.\n",
    "\n",
    "One potential disadvantage of using the same variables for imputations with those that are included in the machine learning model that you are going to create is that it may introduce some bias to the parameter estimations. This means that preferably, use a set of variables that are not included in the machine learning model that you are currently studying, to carry out the regression imputation."
   ]
  },
  {
   "cell_type": "code",
   "execution_count": 41,
   "metadata": {},
   "outputs": [
    {
     "data": {
      "text/html": [
       "<div>\n",
       "<style scoped>\n",
       "    .dataframe tbody tr th:only-of-type {\n",
       "        vertical-align: middle;\n",
       "    }\n",
       "\n",
       "    .dataframe tbody tr th {\n",
       "        vertical-align: top;\n",
       "    }\n",
       "\n",
       "    .dataframe thead th {\n",
       "        text-align: right;\n",
       "    }\n",
       "</style>\n",
       "<table border=\"1\" class=\"dataframe\">\n",
       "  <thead>\n",
       "    <tr style=\"text-align: right;\">\n",
       "      <th></th>\n",
       "      <th>fnlwgt_orig</th>\n",
       "      <th>fnlwgt_MCAR</th>\n",
       "      <th>fnlwgt_mean.imp</th>\n",
       "      <th>fnlwgt_mle.imp</th>\n",
       "      <th>fnlwgt_median.imp</th>\n",
       "      <th>fnlwgt_hdeck.imp</th>\n",
       "      <th>fnlwgt_grpmean.imp</th>\n",
       "      <th>fnlwgt_regression.imp</th>\n",
       "    </tr>\n",
       "  </thead>\n",
       "  <tbody>\n",
       "    <tr>\n",
       "      <th>0</th>\n",
       "      <td>226802</td>\n",
       "      <td>NaN</td>\n",
       "      <td>189474.231302</td>\n",
       "      <td>189474.226182</td>\n",
       "      <td>177907.0</td>\n",
       "      <td>101709.0</td>\n",
       "      <td>192481.177488</td>\n",
       "      <td>197464.746914</td>\n",
       "    </tr>\n",
       "    <tr>\n",
       "      <th>23</th>\n",
       "      <td>220931</td>\n",
       "      <td>NaN</td>\n",
       "      <td>189474.231302</td>\n",
       "      <td>189474.226182</td>\n",
       "      <td>177907.0</td>\n",
       "      <td>169905.0</td>\n",
       "      <td>192481.177488</td>\n",
       "      <td>197464.746914</td>\n",
       "    </tr>\n",
       "    <tr>\n",
       "      <th>31</th>\n",
       "      <td>186651</td>\n",
       "      <td>NaN</td>\n",
       "      <td>189474.231302</td>\n",
       "      <td>189474.226182</td>\n",
       "      <td>177907.0</td>\n",
       "      <td>360689.0</td>\n",
       "      <td>175027.095516</td>\n",
       "      <td>179107.394195</td>\n",
       "    </tr>\n",
       "    <tr>\n",
       "      <th>44</th>\n",
       "      <td>138371</td>\n",
       "      <td>NaN</td>\n",
       "      <td>189474.231302</td>\n",
       "      <td>189474.226182</td>\n",
       "      <td>177907.0</td>\n",
       "      <td>140456.0</td>\n",
       "      <td>179941.352906</td>\n",
       "      <td>200425.610256</td>\n",
       "    </tr>\n",
       "    <tr>\n",
       "      <th>45</th>\n",
       "      <td>242832</td>\n",
       "      <td>NaN</td>\n",
       "      <td>189474.231302</td>\n",
       "      <td>189474.226182</td>\n",
       "      <td>177907.0</td>\n",
       "      <td>107991.0</td>\n",
       "      <td>192481.177488</td>\n",
       "      <td>195688.228909</td>\n",
       "    </tr>\n",
       "    <tr>\n",
       "      <th>...</th>\n",
       "      <td>...</td>\n",
       "      <td>...</td>\n",
       "      <td>...</td>\n",
       "      <td>...</td>\n",
       "      <td>...</td>\n",
       "      <td>...</td>\n",
       "      <td>...</td>\n",
       "      <td>...</td>\n",
       "    </tr>\n",
       "    <tr>\n",
       "      <th>48804</th>\n",
       "      <td>77266</td>\n",
       "      <td>NaN</td>\n",
       "      <td>189474.231302</td>\n",
       "      <td>189474.226182</td>\n",
       "      <td>177907.0</td>\n",
       "      <td>195516.0</td>\n",
       "      <td>192481.177488</td>\n",
       "      <td>194503.883573</td>\n",
       "    </tr>\n",
       "    <tr>\n",
       "      <th>48805</th>\n",
       "      <td>191648</td>\n",
       "      <td>NaN</td>\n",
       "      <td>189474.231302</td>\n",
       "      <td>189474.226182</td>\n",
       "      <td>177907.0</td>\n",
       "      <td>109097.0</td>\n",
       "      <td>192481.177488</td>\n",
       "      <td>196872.574246</td>\n",
       "    </tr>\n",
       "    <tr>\n",
       "      <th>48817</th>\n",
       "      <td>160216</td>\n",
       "      <td>NaN</td>\n",
       "      <td>189474.231302</td>\n",
       "      <td>189474.226182</td>\n",
       "      <td>177907.0</td>\n",
       "      <td>89564.0</td>\n",
       "      <td>192481.177488</td>\n",
       "      <td>192135.192899</td>\n",
       "    </tr>\n",
       "    <tr>\n",
       "      <th>48828</th>\n",
       "      <td>260761</td>\n",
       "      <td>NaN</td>\n",
       "      <td>189474.231302</td>\n",
       "      <td>189474.226182</td>\n",
       "      <td>177907.0</td>\n",
       "      <td>375313.0</td>\n",
       "      <td>192481.177488</td>\n",
       "      <td>186805.638884</td>\n",
       "    </tr>\n",
       "    <tr>\n",
       "      <th>48833</th>\n",
       "      <td>84661</td>\n",
       "      <td>NaN</td>\n",
       "      <td>189474.231302</td>\n",
       "      <td>189474.226182</td>\n",
       "      <td>177907.0</td>\n",
       "      <td>104329.0</td>\n",
       "      <td>192481.177488</td>\n",
       "      <td>186805.638884</td>\n",
       "    </tr>\n",
       "  </tbody>\n",
       "</table>\n",
       "<p>7433 rows × 8 columns</p>\n",
       "</div>"
      ],
      "text/plain": [
       "       fnlwgt_orig  fnlwgt_MCAR  fnlwgt_mean.imp  fnlwgt_mle.imp  \\\n",
       "0           226802          NaN    189474.231302   189474.226182   \n",
       "23          220931          NaN    189474.231302   189474.226182   \n",
       "31          186651          NaN    189474.231302   189474.226182   \n",
       "44          138371          NaN    189474.231302   189474.226182   \n",
       "45          242832          NaN    189474.231302   189474.226182   \n",
       "...            ...          ...              ...             ...   \n",
       "48804        77266          NaN    189474.231302   189474.226182   \n",
       "48805       191648          NaN    189474.231302   189474.226182   \n",
       "48817       160216          NaN    189474.231302   189474.226182   \n",
       "48828       260761          NaN    189474.231302   189474.226182   \n",
       "48833        84661          NaN    189474.231302   189474.226182   \n",
       "\n",
       "       fnlwgt_median.imp  fnlwgt_hdeck.imp  fnlwgt_grpmean.imp  \\\n",
       "0               177907.0          101709.0       192481.177488   \n",
       "23              177907.0          169905.0       192481.177488   \n",
       "31              177907.0          360689.0       175027.095516   \n",
       "44              177907.0          140456.0       179941.352906   \n",
       "45              177907.0          107991.0       192481.177488   \n",
       "...                  ...               ...                 ...   \n",
       "48804           177907.0          195516.0       192481.177488   \n",
       "48805           177907.0          109097.0       192481.177488   \n",
       "48817           177907.0           89564.0       192481.177488   \n",
       "48828           177907.0          375313.0       192481.177488   \n",
       "48833           177907.0          104329.0       192481.177488   \n",
       "\n",
       "       fnlwgt_regression.imp  \n",
       "0              197464.746914  \n",
       "23             197464.746914  \n",
       "31             179107.394195  \n",
       "44             200425.610256  \n",
       "45             195688.228909  \n",
       "...                      ...  \n",
       "48804          194503.883573  \n",
       "48805          196872.574246  \n",
       "48817          192135.192899  \n",
       "48828          186805.638884  \n",
       "48833          186805.638884  \n",
       "\n",
       "[7433 rows x 8 columns]"
      ]
     },
     "execution_count": 41,
     "metadata": {},
     "output_type": "execute_result"
    }
   ],
   "source": [
    "cols = comparison.columns.to_list()\n",
    "comparison = pd.concat([comparison, si_data_full], axis=1)\n",
    "comparison.columns =  [*cols,'age_regression.imp', 'fnlwgt_regression.imp']\n",
    "#View the comparison across dataset\n",
    "comparison.loc[fnlwgt_missing,[\"fnlwgt_orig\",\"fnlwgt_MCAR\", \n",
    "                               \"fnlwgt_mean.imp\", 'fnlwgt_mle.imp',\n",
    "                               \"fnlwgt_median.imp\",'fnlwgt_hdeck.imp',\n",
    "                              'fnlwgt_grpmean.imp', 'fnlwgt_regression.imp']]"
   ]
  },
  {
   "cell_type": "code",
   "execution_count": 42,
   "metadata": {},
   "outputs": [
    {
     "data": {
      "text/plain": [
       "fnlwgt_orig              189664.134597\n",
       "fnlwgt_MCAR              189474.231302\n",
       "fnlwgt_mean.imp          189474.231302\n",
       "fnlwgt_mle.imp           189474.230523\n",
       "fnlwgt_grpmean.imp       189482.381617\n",
       "fnlwgt_regression.imp    189477.143245\n",
       "dtype: float64"
      ]
     },
     "execution_count": 42,
     "metadata": {},
     "output_type": "execute_result"
    }
   ],
   "source": [
    "#Mean Comparisons\n",
    "comparison[[\"fnlwgt_orig\",\"fnlwgt_MCAR\", \"fnlwgt_mean.imp\", 'fnlwgt_mle.imp', 'fnlwgt_grpmean.imp','fnlwgt_regression.imp' ]].mean()"
   ]
  },
  {
   "cell_type": "code",
   "execution_count": 43,
   "metadata": {},
   "outputs": [
    {
     "data": {
      "text/plain": [
       "fnlwgt_orig              105604.025423\n",
       "fnlwgt_MCAR              105392.105559\n",
       "fnlwgt_mean.imp           97041.596928\n",
       "fnlwgt_mle.imp            97041.596928\n",
       "fnlwgt_hdeck.imp         105647.817389\n",
       "fnlwgt_grpmean.imp        97459.655505\n",
       "fnlwgt_regression.imp     97087.408498\n",
       "dtype: float64"
      ]
     },
     "execution_count": 43,
     "metadata": {},
     "output_type": "execute_result"
    }
   ],
   "source": [
    "#Standard Deviation\n",
    "np.sqrt(comparison[[\"fnlwgt_orig\",\"fnlwgt_MCAR\", \"fnlwgt_mean.imp\", 'fnlwgt_mle.imp', 'fnlwgt_hdeck.imp','fnlwgt_grpmean.imp','fnlwgt_regression.imp' ]].var())"
   ]
  },
  {
   "cell_type": "markdown",
   "metadata": {},
   "source": [
    "### K-NEAREST NEIGHBORS (KNN)"
   ]
  },
  {
   "cell_type": "markdown",
   "metadata": {},
   "source": [
    "Similar to the regression and regression with error model that we have just discussed, KNN can be used to fill in missing values in a dataset.\n",
    "\n",
    "The intuition behind this is that a point value can be approximated by the points nearest to that missing point.\n",
    "We can use the KNNImputer from scikit-learn to accomplish this:"
   ]
  },
  {
   "cell_type": "code",
   "execution_count": 44,
   "metadata": {
    "scrolled": true
   },
   "outputs": [],
   "source": [
    "df9 = df.copy()\n",
    "\n",
    "# importing the KNN from fancyimpute library\n",
    "from sklearn.impute import KNNImputer\n",
    "\n",
    "# calling the KNN class\n",
    "knn_imputer = KNNImputer(n_neighbors=3)\n",
    "# imputing the missing value with knn imputer\n",
    "df9[['age', 'fnlwgt']] = knn_imputer.fit_transform(df9[['age', 'fnlwgt']])\n"
   ]
  },
  {
   "cell_type": "code",
   "execution_count": 45,
   "metadata": {},
   "outputs": [
    {
     "data": {
      "text/html": [
       "<div>\n",
       "<style scoped>\n",
       "    .dataframe tbody tr th:only-of-type {\n",
       "        vertical-align: middle;\n",
       "    }\n",
       "\n",
       "    .dataframe tbody tr th {\n",
       "        vertical-align: top;\n",
       "    }\n",
       "\n",
       "    .dataframe thead th {\n",
       "        text-align: right;\n",
       "    }\n",
       "</style>\n",
       "<table border=\"1\" class=\"dataframe\">\n",
       "  <thead>\n",
       "    <tr style=\"text-align: right;\">\n",
       "      <th></th>\n",
       "      <th>fnlwgt_orig</th>\n",
       "      <th>fnlwgt_MCAR</th>\n",
       "      <th>fnlwgt_mean.imp</th>\n",
       "      <th>fnlwgt_mle.imp</th>\n",
       "      <th>fnlwgt_median.imp</th>\n",
       "      <th>fnlwgt_hdeck.imp</th>\n",
       "      <th>fnlwgt_grpmean.imp</th>\n",
       "      <th>fnlwgt_regression.imp</th>\n",
       "      <th>fnlwgt_KNN.imp</th>\n",
       "    </tr>\n",
       "  </thead>\n",
       "  <tbody>\n",
       "    <tr>\n",
       "      <th>0</th>\n",
       "      <td>226802</td>\n",
       "      <td>NaN</td>\n",
       "      <td>189474.231302</td>\n",
       "      <td>189474.226182</td>\n",
       "      <td>177907.0</td>\n",
       "      <td>101709.0</td>\n",
       "      <td>192481.177488</td>\n",
       "      <td>197464.746914</td>\n",
       "      <td>156757.000000</td>\n",
       "    </tr>\n",
       "    <tr>\n",
       "      <th>23</th>\n",
       "      <td>220931</td>\n",
       "      <td>NaN</td>\n",
       "      <td>189474.231302</td>\n",
       "      <td>189474.226182</td>\n",
       "      <td>177907.0</td>\n",
       "      <td>169905.0</td>\n",
       "      <td>192481.177488</td>\n",
       "      <td>197464.746914</td>\n",
       "      <td>156757.000000</td>\n",
       "    </tr>\n",
       "    <tr>\n",
       "      <th>31</th>\n",
       "      <td>186651</td>\n",
       "      <td>NaN</td>\n",
       "      <td>189474.231302</td>\n",
       "      <td>189474.226182</td>\n",
       "      <td>177907.0</td>\n",
       "      <td>360689.0</td>\n",
       "      <td>175027.095516</td>\n",
       "      <td>179107.394195</td>\n",
       "      <td>176796.333333</td>\n",
       "    </tr>\n",
       "    <tr>\n",
       "      <th>44</th>\n",
       "      <td>138371</td>\n",
       "      <td>NaN</td>\n",
       "      <td>189474.231302</td>\n",
       "      <td>189474.226182</td>\n",
       "      <td>177907.0</td>\n",
       "      <td>140456.0</td>\n",
       "      <td>179941.352906</td>\n",
       "      <td>200425.610256</td>\n",
       "      <td>315584.000000</td>\n",
       "    </tr>\n",
       "    <tr>\n",
       "      <th>45</th>\n",
       "      <td>242832</td>\n",
       "      <td>NaN</td>\n",
       "      <td>189474.231302</td>\n",
       "      <td>189474.226182</td>\n",
       "      <td>177907.0</td>\n",
       "      <td>107991.0</td>\n",
       "      <td>192481.177488</td>\n",
       "      <td>195688.228909</td>\n",
       "      <td>213603.666667</td>\n",
       "    </tr>\n",
       "    <tr>\n",
       "      <th>...</th>\n",
       "      <td>...</td>\n",
       "      <td>...</td>\n",
       "      <td>...</td>\n",
       "      <td>...</td>\n",
       "      <td>...</td>\n",
       "      <td>...</td>\n",
       "      <td>...</td>\n",
       "      <td>...</td>\n",
       "      <td>...</td>\n",
       "    </tr>\n",
       "    <tr>\n",
       "      <th>48804</th>\n",
       "      <td>77266</td>\n",
       "      <td>NaN</td>\n",
       "      <td>189474.231302</td>\n",
       "      <td>189474.226182</td>\n",
       "      <td>177907.0</td>\n",
       "      <td>195516.0</td>\n",
       "      <td>192481.177488</td>\n",
       "      <td>194503.883573</td>\n",
       "      <td>157897.333333</td>\n",
       "    </tr>\n",
       "    <tr>\n",
       "      <th>48805</th>\n",
       "      <td>191648</td>\n",
       "      <td>NaN</td>\n",
       "      <td>189474.231302</td>\n",
       "      <td>189474.226182</td>\n",
       "      <td>177907.0</td>\n",
       "      <td>109097.0</td>\n",
       "      <td>192481.177488</td>\n",
       "      <td>196872.574246</td>\n",
       "      <td>52203.333333</td>\n",
       "    </tr>\n",
       "    <tr>\n",
       "      <th>48817</th>\n",
       "      <td>160216</td>\n",
       "      <td>NaN</td>\n",
       "      <td>189474.231302</td>\n",
       "      <td>189474.226182</td>\n",
       "      <td>177907.0</td>\n",
       "      <td>89564.0</td>\n",
       "      <td>192481.177488</td>\n",
       "      <td>192135.192899</td>\n",
       "      <td>181731.666667</td>\n",
       "    </tr>\n",
       "    <tr>\n",
       "      <th>48828</th>\n",
       "      <td>260761</td>\n",
       "      <td>NaN</td>\n",
       "      <td>189474.231302</td>\n",
       "      <td>189474.226182</td>\n",
       "      <td>177907.0</td>\n",
       "      <td>375313.0</td>\n",
       "      <td>192481.177488</td>\n",
       "      <td>186805.638884</td>\n",
       "      <td>192383.000000</td>\n",
       "    </tr>\n",
       "    <tr>\n",
       "      <th>48833</th>\n",
       "      <td>84661</td>\n",
       "      <td>NaN</td>\n",
       "      <td>189474.231302</td>\n",
       "      <td>189474.226182</td>\n",
       "      <td>177907.0</td>\n",
       "      <td>104329.0</td>\n",
       "      <td>192481.177488</td>\n",
       "      <td>186805.638884</td>\n",
       "      <td>192383.000000</td>\n",
       "    </tr>\n",
       "  </tbody>\n",
       "</table>\n",
       "<p>7433 rows × 9 columns</p>\n",
       "</div>"
      ],
      "text/plain": [
       "       fnlwgt_orig  fnlwgt_MCAR  fnlwgt_mean.imp  fnlwgt_mle.imp  \\\n",
       "0           226802          NaN    189474.231302   189474.226182   \n",
       "23          220931          NaN    189474.231302   189474.226182   \n",
       "31          186651          NaN    189474.231302   189474.226182   \n",
       "44          138371          NaN    189474.231302   189474.226182   \n",
       "45          242832          NaN    189474.231302   189474.226182   \n",
       "...            ...          ...              ...             ...   \n",
       "48804        77266          NaN    189474.231302   189474.226182   \n",
       "48805       191648          NaN    189474.231302   189474.226182   \n",
       "48817       160216          NaN    189474.231302   189474.226182   \n",
       "48828       260761          NaN    189474.231302   189474.226182   \n",
       "48833        84661          NaN    189474.231302   189474.226182   \n",
       "\n",
       "       fnlwgt_median.imp  fnlwgt_hdeck.imp  fnlwgt_grpmean.imp  \\\n",
       "0               177907.0          101709.0       192481.177488   \n",
       "23              177907.0          169905.0       192481.177488   \n",
       "31              177907.0          360689.0       175027.095516   \n",
       "44              177907.0          140456.0       179941.352906   \n",
       "45              177907.0          107991.0       192481.177488   \n",
       "...                  ...               ...                 ...   \n",
       "48804           177907.0          195516.0       192481.177488   \n",
       "48805           177907.0          109097.0       192481.177488   \n",
       "48817           177907.0           89564.0       192481.177488   \n",
       "48828           177907.0          375313.0       192481.177488   \n",
       "48833           177907.0          104329.0       192481.177488   \n",
       "\n",
       "       fnlwgt_regression.imp  fnlwgt_KNN.imp  \n",
       "0              197464.746914   156757.000000  \n",
       "23             197464.746914   156757.000000  \n",
       "31             179107.394195   176796.333333  \n",
       "44             200425.610256   315584.000000  \n",
       "45             195688.228909   213603.666667  \n",
       "...                      ...             ...  \n",
       "48804          194503.883573   157897.333333  \n",
       "48805          196872.574246    52203.333333  \n",
       "48817          192135.192899   181731.666667  \n",
       "48828          186805.638884   192383.000000  \n",
       "48833          186805.638884   192383.000000  \n",
       "\n",
       "[7433 rows x 9 columns]"
      ]
     },
     "execution_count": 45,
     "metadata": {},
     "output_type": "execute_result"
    }
   ],
   "source": [
    "cols = comparison.columns.to_list()\n",
    "comparison = pd.concat([comparison, df9[['age', 'fnlwgt']]], axis=1)\n",
    "comparison.columns =  [*cols,'age_KNN.imp', 'fnlwgt_KNN.imp']\n",
    "#View the comparison across dataset\n",
    "comparison.loc[fnlwgt_missing,[\"fnlwgt_orig\",\"fnlwgt_MCAR\", \n",
    "                               \"fnlwgt_mean.imp\", 'fnlwgt_mle.imp',\n",
    "                               \"fnlwgt_median.imp\",'fnlwgt_hdeck.imp',\n",
    "                              'fnlwgt_grpmean.imp', 'fnlwgt_regression.imp',\n",
    "                              'fnlwgt_KNN.imp']]"
   ]
  },
  {
   "cell_type": "code",
   "execution_count": 46,
   "metadata": {},
   "outputs": [
    {
     "data": {
      "text/plain": [
       "fnlwgt_orig              189664.134597\n",
       "fnlwgt_MCAR              189474.231302\n",
       "fnlwgt_mean.imp          189474.231302\n",
       "fnlwgt_mle.imp           189474.230523\n",
       "fnlwgt_grpmean.imp       189482.381617\n",
       "fnlwgt_regression.imp    189477.143245\n",
       "fnlwgt_KNN.imp           189181.017302\n",
       "dtype: float64"
      ]
     },
     "execution_count": 46,
     "metadata": {},
     "output_type": "execute_result"
    }
   ],
   "source": [
    "#Mean Comparisons\n",
    "comparison[[\"fnlwgt_orig\",\"fnlwgt_MCAR\", \"fnlwgt_mean.imp\", 'fnlwgt_mle.imp', 'fnlwgt_grpmean.imp','fnlwgt_regression.imp','fnlwgt_KNN.imp' ]].mean()"
   ]
  },
  {
   "cell_type": "code",
   "execution_count": 47,
   "metadata": {},
   "outputs": [
    {
     "data": {
      "text/plain": [
       "fnlwgt_orig              105604.025423\n",
       "fnlwgt_MCAR              105392.105559\n",
       "fnlwgt_mean.imp           97041.596928\n",
       "fnlwgt_mle.imp            97041.596928\n",
       "fnlwgt_hdeck.imp         105647.817389\n",
       "fnlwgt_grpmean.imp        97459.655505\n",
       "fnlwgt_regression.imp     97087.408498\n",
       "fnlwgt_KNN.imp            99634.212477\n",
       "dtype: float64"
      ]
     },
     "execution_count": 47,
     "metadata": {},
     "output_type": "execute_result"
    }
   ],
   "source": [
    "#Standard Deviation\n",
    "np.sqrt(comparison[[\"fnlwgt_orig\",\"fnlwgt_MCAR\", \"fnlwgt_mean.imp\", 'fnlwgt_mle.imp', 'fnlwgt_hdeck.imp','fnlwgt_grpmean.imp','fnlwgt_regression.imp','fnlwgt_KNN.imp' ]].var())"
   ]
  },
  {
   "cell_type": "code",
   "execution_count": null,
   "metadata": {},
   "outputs": [],
   "source": []
  }
 ],
 "metadata": {
  "kernelspec": {
   "display_name": "Python 3",
   "language": "python",
   "name": "python3"
  },
  "language_info": {
   "codemirror_mode": {
    "name": "ipython",
    "version": 3
   },
   "file_extension": ".py",
   "mimetype": "text/x-python",
   "name": "python",
   "nbconvert_exporter": "python",
   "pygments_lexer": "ipython3",
   "version": "3.7.6"
  }
 },
 "nbformat": 4,
 "nbformat_minor": 4
}
